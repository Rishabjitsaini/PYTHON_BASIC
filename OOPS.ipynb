{
 "cells": [
  {
   "cell_type": "markdown",
   "id": "4e6bafb3",
   "metadata": {},
   "source": [
    "\n",
    "# OOPS object orented programming\n"
   ]
  },
  {
   "cell_type": "code",
   "execution_count": 4,
   "id": "968a7607",
   "metadata": {},
   "outputs": [
    {
     "data": {
      "text/plain": [
       "'hello world'"
      ]
     },
     "execution_count": 4,
     "metadata": {},
     "output_type": "execute_result"
    }
   ],
   "source": [
    "class test:\n",
    "    def func(self):\n",
    "        return \"hello world\"\n",
    "    def func1(self):\n",
    "        return \"hellow world123\"\n",
    "obj=test()\n",
    "obj.func1()"
   ]
  },
  {
   "cell_type": "code",
   "execution_count": 14,
   "id": "cdceab4f",
   "metadata": {},
   "outputs": [
    {
     "data": {
      "text/plain": [
       "18"
      ]
     },
     "execution_count": 14,
     "metadata": {},
     "output_type": "execute_result"
    }
   ],
   "source": [
    "class test:\n",
    "    def add(self,a,b):\n",
    "        return a+b\n",
    "    def mul(self,a,b):\n",
    "        return a*b\n",
    "obj=test()\n",
    "obj.mul(3,6)"
   ]
  },
  {
   "cell_type": "code",
   "execution_count": 15,
   "id": "a70fe46d",
   "metadata": {},
   "outputs": [
    {
     "name": "stdout",
     "output_type": "stream",
     "text": [
      "6\n",
      "6\n"
     ]
    },
    {
     "data": {
      "text/plain": [
       "36"
      ]
     },
     "execution_count": 15,
     "metadata": {},
     "output_type": "execute_result"
    }
   ],
   "source": [
    "class test:\n",
    "    def add(self,a,b):\n",
    "        return a+b\n",
    "    def mul(self,a,b):\n",
    "        return a*b\n",
    "a=int(input())\n",
    "b=int(input())\n",
    "obj=test()\n",
    "obj.mul(a,b)"
   ]
  },
  {
   "cell_type": "code",
   "execution_count": 21,
   "id": "dc4cb809",
   "metadata": {},
   "outputs": [
    {
     "data": {
      "text/plain": [
       "('my age is ', 23)"
      ]
     },
     "execution_count": 21,
     "metadata": {},
     "output_type": "execute_result"
    }
   ],
   "source": [
    "class person:\n",
    "    def __init__(self,id,age,name):\n",
    "        self.id=id\n",
    "        self.age=age\n",
    "        self.name=name\n",
    "        #####the upper funtion is constructor\n",
    "    def test(self):\n",
    "        return \"my name is \",self.name\n",
    "    def test1(self):\n",
    "        return \"my id no. is \",self.id\n",
    "    def test2(self):\n",
    "        return \"my age is \",self.age\n",
    "    def test3(self):\n",
    "        return self.name,self.id,self.age\n",
    "obj=person(2399,23,\"rishab\")\n",
    "obj.test()"
   ]
  },
  {
   "cell_type": "code",
   "execution_count": 25,
   "id": "188d3da1",
   "metadata": {},
   "outputs": [
    {
     "data": {
      "text/plain": [
       "('my car colour is ', 'black')"
      ]
     },
     "execution_count": 25,
     "metadata": {},
     "output_type": "execute_result"
    }
   ],
   "source": [
    "class car:\n",
    "    def __init__(self,name,colour,window,car_type):\n",
    "        self.name=name\n",
    "        self.colour=colour\n",
    "        self.window=window\n",
    "        self.car_type=car_type\n",
    "    def test(self):\n",
    "        return \"my car name is \",self.name\n",
    "    def test1(self):\n",
    "        return \"my car colour is \",self.colour\n",
    "    def test2(self):\n",
    "        return \"my car has window\",self.window\n",
    "    def test3(self):\n",
    "        return \"my car type is \",self.car_type\n",
    "    def test4(self):\n",
    "        return self.name,self.colour,self.window,self.car_type\n",
    "obj=car('BMW','black',4,'sedan')\n",
    "obj.test1()\n",
    "    "
   ]
  },
  {
   "cell_type": "code",
   "execution_count": 16,
   "id": "22db9f4e",
   "metadata": {
    "scrolled": true
   },
   "outputs": [
    {
     "name": "stdout",
     "output_type": "stream",
     "text": [
      "60\n",
      "1.5\n",
      "26.666666666666668\n"
     ]
    }
   ],
   "source": [
    "import logging\n",
    "logging.basicConfig(filename='test501.log', level=logging.INFO)\n",
    "class bmi_calculator:\n",
    "    def __init__(self,w,h):\n",
    "        self.w=w\n",
    "        self.h=h\n",
    "    def bmi1(self):\n",
    "        \"\"\"code to calculate bmi\"\"\"\n",
    "        try:\n",
    "            bmi=self.w/((self.h)*(self.h))\n",
    "            print(bmi)\n",
    "        except Exception as e:\n",
    "            logging.error(\"error occured\")\n",
    "            logging.exception(\"Exception occured\"+str(e))\n",
    "try:\n",
    "    w=float(input())\n",
    "    h=float(input())\n",
    "    obj=bmi_calculator(w,h)\n",
    "    obj.bmi1()\n",
    "except Exception as e:\n",
    "    logging.error(\"error\")\n",
    "    logging.exception(\"Exception occured\"+str(e))\n",
    "    \n",
    "logging.shutdown()\n"
   ]
  },
  {
   "cell_type": "code",
   "execution_count": 4,
   "id": "be1fe4bc",
   "metadata": {},
   "outputs": [
    {
     "name": "stdout",
     "output_type": "stream",
     "text": [
      "enter temprature in celsius36\n",
      "96.8\n"
     ]
    }
   ],
   "source": [
    "import logging\n",
    "logging.basicConfig(filename='test502.log', level=logging.INFO)\n",
    "class temp:\n",
    "    def __init__(self,c):\n",
    "        self.c=c\n",
    "    try:\n",
    "        def test(self):\n",
    "            f=(self.c*(9/5))+32\n",
    "            print(f)\n",
    "    except Exception as e:\n",
    "        print(e)\n",
    "try:\n",
    "    c=float(input(\"enter temprature in celsius\"))\n",
    "    obj=temp(c)\n",
    "    obj.test()\n",
    "except Exception as e:\n",
    "    logging.error(\"error\")\n",
    "    logging.exception(\"Exception occured\"+str(e))\n",
    "\n",
    "logging.shutdown()"
   ]
  },
  {
   "cell_type": "markdown",
   "id": "7202e809",
   "metadata": {},
   "source": [
    "# INHERITANCE"
   ]
  },
  {
   "cell_type": "code",
   "execution_count": 12,
   "id": "ec0656ce",
   "metadata": {},
   "outputs": [
    {
     "name": "stdout",
     "output_type": "stream",
     "text": [
      "5\n",
      "10\n"
     ]
    },
    {
     "data": {
      "text/plain": [
       "0.5"
      ]
     },
     "execution_count": 12,
     "metadata": {},
     "output_type": "execute_result"
    }
   ],
   "source": [
    "class A:\n",
    "    def fun1(self,a,b):\n",
    "        return a+b\n",
    "    def fun2(self,a,b):\n",
    "        return a-b\n",
    "class B(A):\n",
    "    def fun3(self,a,b):\n",
    "        return a*b\n",
    "    def fun4(self,a,b):\n",
    "        return a/b\n",
    "a=int(input())\n",
    "b=int(input())\n",
    "obj=B()\n",
    "obj.fun4(a,b)"
   ]
  },
  {
   "cell_type": "code",
   "execution_count": 22,
   "id": "8304ff72",
   "metadata": {},
   "outputs": [
    {
     "data": {
      "text/plain": [
       "('my car colour is ', 'black')"
      ]
     },
     "execution_count": 22,
     "metadata": {},
     "output_type": "execute_result"
    }
   ],
   "source": [
    "class car:\n",
    "    def __init__(self,name,colour):\n",
    "        self.name=name\n",
    "        self.colour=colour\n",
    "    def test(self):\n",
    "        return \"my car name is \",self.name\n",
    "    def test1(self):\n",
    "        return \"my car colour is \",self.colour\n",
    "class car2(car):\n",
    "    def __init__(self,name,colour,window,car_type):\n",
    "        car.__init__(self,name,colour)\n",
    "        self.window=window\n",
    "        self.car_type=car_type\n",
    "    def test2(self):\n",
    "        return \"my car has window\",self.window\n",
    "    def test3(self):\n",
    "        return \"my car type is \",self.car_type\n",
    "    def test4(self):\n",
    "        return self.name,self.colour,self.window,self.car_type\n",
    "obj=car2('BMW','black',4,'sedan')\n",
    "obj.test1()"
   ]
  },
  {
   "cell_type": "code",
   "execution_count": 1,
   "id": "360fcabc",
   "metadata": {},
   "outputs": [
    {
     "name": "stdout",
     "output_type": "stream",
     "text": [
      "enter a:5\n",
      "enter b:0\n",
      "0.exit\n",
      "1,add\n",
      "2,sub\n",
      "3,multi\n",
      "4,division\n",
      "what yo wanna do4\n"
     ]
    }
   ],
   "source": [
    "import logging\n",
    "logging.basicConfig(filename='test505.log', level=logging.INFO)\n",
    "class calculator:\n",
    "    def __init__(self,a,b):\n",
    "        self.a=a\n",
    "        self.b=b\n",
    "    try:\n",
    "        def add(self):\n",
    "            return self.a+self.b\n",
    "        def sub(self):\n",
    "            return self.a-self.b\n",
    "        def mul(self):\n",
    "            return self.a*self.b\n",
    "        def divi(self):\n",
    "            return self.a/self.b\n",
    "    except Exception as e:\n",
    "            logging.error(\"error occured\")\n",
    "            logging.exception(\"Exception occured\"+str(e))\n",
    "a=int(input(\"enter a:\"))\n",
    "b=int(input(\"enter b:\"))\n",
    "obj=calculator(a,b)\n",
    "try:\n",
    "    choice=1\n",
    "    while choice!=0:\n",
    "        print(\"0.exit\")\n",
    "        print(\"1,add\")\n",
    "        print(\"2,sub\")\n",
    "        print(\"3,multi\")\n",
    "        print(\"4,division\")\n",
    "        choice=int(input(\"what yo wanna do\"))\n",
    "        if choice==1:\n",
    "            print(\"result:\",obj.add())\n",
    "        elif choice==2:\n",
    "            print(\"result:\",obj.sub())\n",
    "        elif choice==3:\n",
    "            print(\"result:\",obj.mul())\n",
    "        elif choice==4:\n",
    "            print(\"result:\",obj.divi())\n",
    "        elif choice==0:\n",
    "            print(\"exiting\")\n",
    "        else:\n",
    "            print(\"invalid choice!\")\n",
    "except Exception as e:\n",
    "    logging.error(\"error occured\")\n",
    "    logging.exception(\"Exception occured\"+str(e))\n",
    "logging.shutdown()\n",
    "\n",
    "\n",
    "        "
   ]
  },
  {
   "cell_type": "markdown",
   "id": "5638292e",
   "metadata": {},
   "source": [
    "# MULTI LEVEL INHERITANCE"
   ]
  },
  {
   "cell_type": "code",
   "execution_count": 20,
   "id": "4f82d454",
   "metadata": {},
   "outputs": [],
   "source": [
    "import logging\n",
    "logging.basicConfig(filename='test507.log', level=logging.INFO)\n",
    "class car:\n",
    "    def __init__(self,name,colour):\n",
    "        self.name=name\n",
    "        self.colour=colour\n",
    "    try:\n",
    "        def test(self):\n",
    "            return \"my car name is \",self.name\n",
    "        def test1(self):\n",
    "            return \"my car colour is \",self.colour\n",
    "    except Exception as e:\n",
    "        logging.error(\"error occured\")\n",
    "        logging.exception(\"Exception occured\"+str(e))\n",
    "class car2(car):\n",
    "    def __init__(self,name,colour,window,car_type):\n",
    "        car.__init__(self,name,colour)\n",
    "        self.window=window\n",
    "        self.car_type=car_type\n",
    "    try:\n",
    "        def test2(self):\n",
    "            return \"my car has window\",self.window\n",
    "        def test3(self):\n",
    "            return \"my car type is \",self.car_type\n",
    "    except Exception as e:\n",
    "        logging.error(\"error occured\")\n",
    "        logging.exception(\"Exception occured\"+str(e))\n",
    "class car3(car2):\n",
    "    def __init__(self,name,colour,window,car_type,horsepower,doors):\n",
    "        car2.__init__(self,name,colour,window,car_type)\n",
    "        self.horsepower=horsepower\n",
    "        self.doors=doors\n",
    "    try:\n",
    "        def test4(self):\n",
    "            return \"my car horse power is\",self.horsepower\n",
    "        def test5(self):\n",
    "            return \"my car door are :\",self.doors\n",
    "    except Exception as e:\n",
    "        logging.error(\"error occured\")\n",
    "        logging.exception(\"Exception occured\"+str(e))\n",
    "try:\n",
    "    obj=car3('BMW','black',4,'sedan',1200,5)\n",
    "    obj.test6()\n",
    "except Exception as e:\n",
    "        logging.error(\"error occured\")\n",
    "        logging.exception(\"Exception occured\"+str(e))\n",
    "    \n",
    "logging.shutdown()\n",
    "\n"
   ]
  },
  {
   "cell_type": "markdown",
   "id": "837c093a",
   "metadata": {},
   "source": [
    "# MULTIPLE INHERITANCE"
   ]
  },
  {
   "cell_type": "code",
   "execution_count": 19,
   "id": "200bd7a2",
   "metadata": {},
   "outputs": [
    {
     "name": "stdout",
     "output_type": "stream",
     "text": [
      "('my car colour is ', 'black')\n"
     ]
    }
   ],
   "source": [
    "import logging\n",
    "logging.basicConfig(filename='test507.log', level=logging.INFO)\n",
    "class car:\n",
    "    def __init__(self,name,colour):\n",
    "        self.name=name\n",
    "        self.colour=colour\n",
    "    try:\n",
    "        def test(self):\n",
    "            return \"my car name is \",self.name\n",
    "        def test1(self):\n",
    "            return \"my car colour is \",self.colour\n",
    "    except Exception as e:\n",
    "        logging.error(\"error occured\")\n",
    "        logging.exception(\"Exception occured\"+str(e))\n",
    "\n",
    "class car2(car):\n",
    "    def __init__(self,name,colour,window,car_type):\n",
    "        car.__init__(self,name,colour)\n",
    "        self.window=window\n",
    "        self.car_type=car_type\n",
    "    try:\n",
    "        def test2(self):\n",
    "            return \"my car has window\",self.window\n",
    "        def test3(self):\n",
    "            return \"my car type is \",self.car_type\n",
    "    except Exception as e:\n",
    "        logging.error(\"error occured\")\n",
    "        logging.exception(\"Exception occured\"+str(e))\n",
    "        \n",
    "class car3(car):\n",
    "    def __init__(self,name,colour,horsepower,doors):\n",
    "        car.__init__(self,name,colour)\n",
    "        self.horsepower=horsepower\n",
    "        self.doors=doors\n",
    "    try:\n",
    "        def test4(self):\n",
    "            return \"my car horse power is\",self.horsepower\n",
    "        def test5(self):\n",
    "            return \"my car door are :\",self.doors\n",
    "    except Exception as e:\n",
    "        logging.error(\"error occured\")\n",
    "        logging.exception(\"Exception occured\"+str(e))\n",
    "        \n",
    "try:\n",
    "    obj1=car2('BMW','black',1200,5)\n",
    "    obj2=car3('bmw','black',4,'sedan')\n",
    "    print(obj1.test1())\n",
    "except Exception as e:\n",
    "    logging.error(\"error occured\")\n",
    "    logging.exception(\"Exception occured\"+str(e))\n",
    "    \n",
    "logging.shutdown()\n"
   ]
  },
  {
   "cell_type": "code",
   "execution_count": 18,
   "id": "8d9a136d",
   "metadata": {},
   "outputs": [
    {
     "data": {
      "text/plain": [
       "('my car type is ', 'sedan')"
      ]
     },
     "execution_count": 18,
     "metadata": {},
     "output_type": "execute_result"
    }
   ],
   "source": [
    "class car:\n",
    "    def __init__(self,name,colour):\n",
    "        self.name=name\n",
    "        self.colour=colour\n",
    "    def test(self):\n",
    "        return \"my car name is \",self.name\n",
    "    def test1(self):\n",
    "        return \"my car colour is \",self.colour\n",
    "class car2(car):\n",
    "    def __init__(self,name,colour,window):\n",
    "        car.__init__(self,name,colour)\n",
    "        self.window=window\n",
    "    def test2(self):\n",
    "        return \"my car has window\",self.window\n",
    "class car3(car):\n",
    "    def __init__(self,name,colour,car_type):\n",
    "        car.__init__(self,name,colour)\n",
    "        self.car_type=car_type\n",
    "    def test3(self):\n",
    "        return \"my car type is \",self.car_type\n",
    "    def test4(self):\n",
    "        return self.name,self.colour,self.window,self.car_type\n",
    "obj1=car2('BMW','black',4)\n",
    "obj2=car3('BMW','black','sedan')\n",
    "obj2.test3()"
   ]
  },
  {
   "cell_type": "markdown",
   "id": "e855a594",
   "metadata": {},
   "source": [
    "# INHERITANCE ENCAPSULATION"
   ]
  },
  {
   "cell_type": "code",
   "execution_count": 35,
   "id": "37b9fa28",
   "metadata": {},
   "outputs": [
    {
     "name": "stdout",
     "output_type": "stream",
     "text": [
      "this is my first test method: 1\n"
     ]
    },
    {
     "data": {
      "text/plain": [
       "3"
      ]
     },
     "execution_count": 35,
     "metadata": {},
     "output_type": "execute_result"
    }
   ],
   "source": [
    "class xyz:\n",
    "    def __init__(self,a,b,c):\n",
    "        self._a=a #protected\n",
    "        self.b=b\n",
    "        self.__c=c #private\n",
    "    def test(self):\n",
    "        print(\"this is my first test method:\",self._a)\n",
    "        \n",
    "    def test1(self):\n",
    "        print(\"this is my second test method:\",self.b)\n",
    "        \n",
    "    def test2(self):\n",
    "        print(\"this is my third test method:\",self.__c)\n",
    "        \n",
    "class abc(xyz):\n",
    "    def test3(self):\n",
    "        print(\"this is my abc test method:\",self.__c)\n",
    "\n",
    "obj=xyz(1,2,3)\n",
    "obj.test()\n",
    "obj._xyz__c #calling private value \n",
    "        \n"
   ]
  },
  {
   "cell_type": "code",
   "execution_count": 31,
   "id": "d0bac970",
   "metadata": {},
   "outputs": [],
   "source": []
  },
  {
   "cell_type": "code",
   "execution_count": null,
   "id": "66bf7c05",
   "metadata": {},
   "outputs": [],
   "source": []
  }
 ],
 "metadata": {
  "kernelspec": {
   "display_name": "Python 3 (ipykernel)",
   "language": "python",
   "name": "python3"
  },
  "language_info": {
   "codemirror_mode": {
    "name": "ipython",
    "version": 3
   },
   "file_extension": ".py",
   "mimetype": "text/x-python",
   "name": "python",
   "nbconvert_exporter": "python",
   "pygments_lexer": "ipython3",
   "version": "3.9.12"
  }
 },
 "nbformat": 4,
 "nbformat_minor": 5
}
