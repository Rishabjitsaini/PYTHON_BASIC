#!/usr/bin/env python
# coding: utf-8

# In[1]:


"Hello world"


# # Print statements in python

# In[ ]:


##DAY 1


# In[2]:


print("hello world")


# In[1]:


a='rishab'
print("Good morning",a)


# In[4]:


a="rishab"
print("Good morning",a)


# In[5]:


a= "rishab"
print(f"{a} Good morning")


# In[6]:


a=5
b=5
print(a+b,a-b,a*b,a/b)


# In[7]:


a=5
b=5
print("a+b")
print("a-b")
print("a*b")
print("a/b")


# In[8]:


a=5
b=5
print(a+b)
print(a-b)
print(a*b)
print(a/b)


# In[9]:


a=input()
b=input()


# In[10]:


a+b


# In[11]:


type(a)


# In[12]:


type(b)


# In[13]:


c=4.5


# In[14]:


type(c)


# In[15]:


a=int(input())
b=int(input())


# In[16]:


a+b


# In[17]:


d=6+6j


# In[18]:


type(d)


# In[1]:


a=5
b=6
a<b


# In[2]:


## DAY 2


# 
# # IF-ESLE Statements

# In[2]:


a=4
b=6
if a<b:


# In[3]:


a=4
b=6
if a<b:
    print("b is grater than a")
else:
    print("a is grater than b")


# In[4]:


a=int(input())
b=int(input())
if a<b:
    print("b is grater than a")
else:
    print("a is grater than b")


# In[5]:


a=int(input())
b=int(input())
if a<b:
    print("b is grater than a")
else:
    print("a is grater than b")


# In[6]:


a="rishabjit"
b="jalpa"
if len(a)<len(b):
    print("b is a bigger name")
else:
    print("a is a bigger name")
    


# In[7]:


a=str(input())
b=str(input())
if len(a)<len(b):
    print("b is a bigger name")
else:
    print("a is a bigger name")
    


# In[10]:


a=int(input())
if a>0:
    print("number is positive")
else:
    print("number is negative")
    


# In[13]:


a=int(input())
if a%2==0:
    print("number is even")
else:
    print("number is odd")
    


# In[15]:


a = "rishabjit"


# In[16]:


len(a)


# In[17]:


a[1]


# In[18]:


a[0]


# In[19]:


a[-1]


# In[20]:


a[0:3]


# In[21]:


a="rishabjit"
b="jalpa"
if a[0]==b[0]:
    print("first letter are same")
else:
    print("first letter are different")


# In[22]:


a=str(input())
b=str(input())
if a[0]==b[0]:
    print("first letter are same")
else:
    print("first letter are different")


# In[23]:


a="rishabjit"


# In[25]:


len(a)


# In[26]:


a[-1:-9]


# ##to write name in reverse

# In[30]:


a[::-1]


# ##pelindrome word eg.kanak,eye,wow,etc.

# In[32]:


a=str(input())
if a==a[::-1]:
    print("it is a pelindrome")
else:
    print("it is not a pelindrome")


# In[33]:


a=str(input())
if a==a[::-1]:
    print("it is a pelindrome")
else:
    print("it is not a pelindrome")


# In[35]:


##DAY 3


# # Nested if

# In[ ]:


a = int(input("enter the number:"))
if a <= 0:
    if a < 0:
        print("number is negative")
    else: 
        print("number is zero")
else:
    print("number is positive")


# 
# # Elif

# In[8]:


a = int(input("enter number:"))
if a < 0:
    print("negative")
elif a == 0:
    print("zero")
else:
    print("positive")


# In[16]:


a=int(input("enter marks:"))
if a<40:
    print("fail")
elif a<50:
    print("pass")
elif a<60:
    print("second class")
elif a<70:
    print("first class")
else:
    print("dictinction")


# In[22]:


a=int(input("enter income"))
if a < 10000:
    print("you have 20% discount")
    a=20*10000/100
    print("discount is",a)
elif a < 20000:
    print("you have 10% discount",a*0.10)
elif a < 30000:
    print("you have 5% discount")
    a=5*10000/100
    print("discount is",a)
else:
    print("no discount")


# # Data structure
# ##List

# In[24]:


l=[2,3,4,8.8,"rishab",6+6j]


# In[27]:


type(l)


# In[28]:


l[0]


# In[30]:


l[-1]


# In[31]:


l[::-1]


# In[33]:


l[0:5:2]


# In[34]:


l[1]="jalpa"


# In[35]:


l


# In[37]:


l=[2,3,4,8.8,"rishab",6+6j,[0,1,[0,2,8],2,3]]


# In[38]:


len(l)


# In[39]:


l[6]


# In[40]:


l[6][2][1]


# In[41]:


#sets


# In[42]:


s={0,1,2,2,3,3,"x","z"}


# In[43]:


s


# ##in set the number repated are taken as one and we cant find out the single element

# In[47]:


s={0,1,2,2,3,3,"x",[1,2,3]}


# In[48]:


l=[1,2,3,4,{1,2,2,3,3}]


# In[49]:


#we can define set in list but cant define list in sets.


# In[50]:


#tuple- cant change vale in tuple.


# In[91]:


#dict (keys and values)


# In[51]:


dict


# In[71]:


dict1 = {1:'jslps',2:'xyz',3:[5,6,7],"x":(4,6,7),'y':{5,6,7}}


# In[74]:


dict1['y']


# In[75]:


dict1.keys()


# In[76]:


dict1.values()


# In[77]:


dict2 = {1:{5,6,6,6,7,8,'jalpa'},2:[5,6,7,8,[9,9,10]],'x':(6,7,8,34,45,56)}


# In[78]:


dict2[2]


# In[80]:


dict2[2][-1]


# In[82]:


dict2[2][-1][2]


# In[89]:


l1=[1,2,3,4]
l2=[2,5,8,9,10]
if len(l1)==len(l2):
    print("length of list are same")
else:
    print("length is not same")


# In[90]:


l1=[1,2,3,4]
l2=[2,5,8,9]
if len(l1)==len(l2):
    print("length of list are same")
else:
    print("length is not same")


# In[92]:


l1=[1,2,3,4]
l2=[2,5,8,9,10]
if l1[0]==l2[0]:
    print("first letter of list are same")
else:
    print("first letter is not same")


# In[94]:


l1=[1,2,3,4]
l2=[2,5,8,9,10]
if type(l1)==type(l2):
    print("the type of first letter of list are same")
else:
    print("the type of first letter is not same")


# In[111]:


##JSON-JavaScript Object Notation


# In[97]:


x1={"menu": {  
  "id": "file",  
  "value": "File",  
  "popup": {  
    "menuitem": [  
      {"value": "New", "onclick": "CreateDoc()"},  
      {"value": "Open", "onclick": "OpenDoc()"},  
      {"value": "Save", "onclick": "SaveDoc()"}  
    ]  
  }  
}}  


# In[98]:


x1


# In[110]:


x1["menu"]["popup"]["menuitem"][0]["onclick"]


# In[112]:


x2={"widget": {
    "debug": "on",
    "window": {
        "title": "Sample Konfabulator Widget",
        "name": "main_window",
        "width": 500,
        "height": 500
    },
    "image": { 
        "src": "Images/Sun.png",
        "name": "sun1",
        "hOffset": 250,
        "vOffset": 250,
        "alignment": "center"
    },
    "text": {
        "data": "Click Here",
        "size": 36,
        "style": "bold",
        "name": "text1",
        "hOffset": 250,
        "vOffset": 100,
        "alignment": "center",
        "onMouseUp": "sun1.opacity = (sun1.opacity / 100) * 90;"
    }
}}


# In[116]:


x2["widget"]["text"]["onMouseUp"]


# In[119]:


x3={"web-app": {
  "servlet": [   
    {
      "servlet-name": "cofaxCDS",
      "servlet-class": "org.cofax.cds.CDSServlet",
      "init-param": {
        "configGlossary:installationAt": "Philadelphia, PA",
        "configGlossary:adminEmail": "ksm@pobox.com",
        "configGlossary:poweredBy": "Cofax",
        "configGlossary:poweredByIcon": "/images/cofax.gif",
        "configGlossary:staticPath": "/content/static",
        "templateProcessorClass": "org.cofax.WysiwygTemplate",
        "templateLoaderClass": "org.cofax.FilesTemplateLoader",
        "templatePath": "templates",
        "templateOverridePath": "",
        "defaultListTemplate": "listTemplate.htm",
        "defaultFileTemplate": "articleTemplate.htm",
        "useJSP": "false",
        "jspListTemplate": "listTemplate.jsp",
        "jspFileTemplate": "articleTemplate.jsp",
        "cachePackageTagsTrack": 200,
        "cachePackageTagsStore": 200,
        "cachePackageTagsRefresh": 60,
        "cacheTemplatesTrack": 100,
        "cacheTemplatesStore": 50,
        "cacheTemplatesRefresh": 15,
        "cachePagesTrack": 200,
        "cachePagesStore": 100,
        "cachePagesRefresh": 10,
        "cachePagesDirtyRead": 10,
        "searchEngineListTemplate": "forSearchEnginesList.htm",
        "searchEngineFileTemplate": "forSearchEngines.htm",
        "searchEngineRobotsDb": "WEB-INF/robots.db",
        "useDataStore": "true",
        "dataStoreClass": "org.cofax.SqlDataStore",
        "redirectionClass": "org.cofax.SqlRedirection",
        "dataStoreName": "cofax",
        "dataStoreDriver": "com.microsoft.jdbc.sqlserver.SQLServerDriver",
        "dataStoreUrl": "jdbc:microsoft:sqlserver://LOCALHOST:1433;DatabaseName=goon",
        "dataStoreUser": "sa",
        "dataStorePassword": "dataStoreTestQuery",
        "dataStoreTestQuery": "SET NOCOUNT ON;select test='test';",
        "dataStoreLogFile": "/usr/local/tomcat/logs/datastore.log",
        "dataStoreInitConns": 10,
        "dataStoreMaxConns": 100,
        "dataStoreConnUsageLimit": 100,
        "dataStoreLogLevel": "debug",
        "maxUrlLength": 500}},
    {
      "servlet-name": "cofaxEmail",
      "servlet-class": "org.cofax.cds.EmailServlet",
      "init-param": {
      "mailHost": "mail1",
      "mailHostOverride": "mail2"}},
    {
      "servlet-name": "cofaxAdmin",
      "servlet-class": "org.cofax.cds.AdminServlet"},
 
    {
      "servlet-name": "fileServlet",
      "servlet-class": "org.cofax.cds.FileServlet"},
    {
      "servlet-name": "cofaxTools",
      "servlet-class": "org.cofax.cms.CofaxToolsServlet",
      "init-param": {
        "templatePath": "toolstemplates/",
        "log": 1,
        "logLocation": "/usr/local/tomcat/logs/CofaxTools.log",
        "logMaxSize": "",
        "dataLog": 1,
        "dataLogLocation": "/usr/local/tomcat/logs/dataLog.log",
        "dataLogMaxSize": "",
        "removePageCache": "/content/admin/remove?cache=pages&id=",
        "removeTemplateCache": "/content/admin/remove?cache=templates&id=",
        "fileTransferFolder": "/usr/local/tomcat/webapps/content/fileTransferFolder",
        "lookInContext": 1,
        "adminGroupID": 4,
        "betaServer": "true"}}],
  "servlet-mapping": {
    "cofaxCDS": "/",
    "cofaxEmail": "/cofaxutil/aemail/*",
    "cofaxAdmin": "/admin/*",
    "fileServlet": "/static/*",
    "cofaxTools": "/tools/*"},
 
  "taglib": {
    "taglib-uri": "cofax.tld",
    "taglib-location": "/WEB-INF/tlds/cofax.tld"}}}


# In[127]:


x3["web-app"]["servlet"][1]["servlet-name"]


# In[140]:


l=[1,2,"jalpa",5.5]
if type(l[0])==int:
    print("first number is int")
else:
    print("number is not int")
if type(l[-1])==float:
    print("last number is float")
else:
    print("not float")
    
    


# In[132]:


l


# In[2]:


a=int(input("enter value of a"))
b=int(input("enter value of b"))
c=int(input("enter value of c"))
if a>b:
    print("a is greater",a)
elif b>c:
    print("b is greater",b)
elif c>a:
    print("c is greater",c)
else:
    print("number are equal")


# In[8]:


#bmi
weight=float(input("enter weigth in kg:"))
height=float(input("enter height in m:"))
bmi=weight/height**2
print("ur bmi score is:",bmi)

if bmi<18:
    print("ur weak")
elif bmi<24:
    print("ur healthy")
elif bmi<30:
    print("ur over weight")
else:
    print("ur obesed")


# In[10]:


#for and range


# In[11]:


range(0,10)


# In[13]:


list(range(0,10))


# In[14]:


list(range(10,0,-1))


# In[15]:


l=[1,2,3,"xyz","rishab"]


# In[16]:


for i in l:
    print(i)


# In[18]:


for i in range(0,10):
    print(i)


# In[19]:


for i in range(10,0,-1):
    print(i)


# In[21]:


#reverse of list using for loop
l=[1,2,3,4,"xyz"]
for i in l[::-1]:
    print(i)


# In[22]:


x="rishab"
for i in x[::-1]:
    print(i)


# In[35]:


#fetch int from list using for loop

l=[1,2,3,"xyz",6+6j,6,[9,8,5]]
for i in l:
    if type(i) == int:
        print(i)


# In[ ]:


#fetch list from the given list


# In[43]:


#table form loop
x=int(input("enter table u need:"))
for i in range(1,11):
    print(x,"x",i,"=",x*i)
    


# In[57]:


l=[1,2,3,4,5,6,7,8.8,9.9,23,8,9]
for i in l:
    if i%2==0:
        pass
        print(i)


# In[46]:


#break break not conuting that value but the value prior to it
#continue will not cont the value but cont ahead
#pass will count all value


# In[48]:


#LIST IN LIST
#COUNT NUMBERS EVEN AND ODD
#USING FOR LOOP STRING IS PALENDROM
#DUPLICATE VALUE
#FIBONACHI SERIES
#PRIME NUMBER


# In[6]:


l=[1,2,3,4,5,[5,4,3]]
for i in l:
    if type(i)==list:
        print(i)
 


# In[4]:


list1 = [10, 21, 4, 45, 66, 93, 1,2,4,6,8]
 
even_count, odd_count = 0, 0
 
for i in list1:
    if i % 2 == 0:
        even_count += 1
 
    else:
        odd_count += 1
print("Even numbers in the list: ", even_count)
print("Odd numbers in the list: ", odd_count)


# In[9]:


s = str(input("Enter any number/word :"))
for i in s:
    if s==s[::-1]:
        print('It is a palindrome')
        break
else:
    print('It is not a palindrome')


# In[23]:


s = input("enter string:")
for i in range(0,int(len(s)/2)):
    if s[i] != s[len(s)-i-1]:
        print("its not palindrome")
        break
    else:
        print("it is")
        break


# In[45]:


s=int(input("enter the number"))
if s>1:
    for i in range(2,int(s/2)+1):
        if s%i==0:
            print("not prime")
            break
    else: 
            print("prime")
    
            
    


# In[5]:


#fibonachi
n=int(input("enter limit:"))
a=0
b=1
print(a)
print(b)
for i in range(2,n):
    c=a+b
    a=b
    b=c
    print(c)


# In[8]:


#star formations for concept
n=int(input("enter the number for n: "))
for i in range(0,n):
    for j in range(0,i+1):
        print("*", end=" ")
    print("\n")


# In[10]:


n=int(input("enter the number for n:"))
for i in range(0,n):
    for j in range (1,i+1):
        print(j,end=" ")
    print("\n")
    


# In[15]:


n = int(input("enter the length"))
for i in range(0,n):
    for j in range(0,n):
        print(" * ",end = " ")
    print("\n")


# In[16]:


#to call capital a we use ascii table eg: A= chr(65)


# In[23]:


n=int(input("enter the number"))
for i in range(1,n):
    for j in range(65,65+i):
        print(chr(j),end=" ")
    print("\n")
    


# In[28]:


n=int(input("enter the rows"))
ascii_val=65
for i in range(n):
    for j in range(i+1):
        print(chr(ascii_val),end=" ")
    ascii_val+=1
    print("\n")


# In[35]:


#star formations for concept
n=int(input("enter the number for n: "))
for i in range(n,0,-1):
    for j in range(0,i):
        print("*", end=" ")
    print("\n")


# In[38]:


n=int(input("enter the number"))
k=n-1
for i in range(0,n):
    for j in range(0,k):
        print(end=" ")
    k=k-1
    for j in range(0,i+1):
        print("* ",end="")
    print("\n")
        


# In[39]:


#square,initail


# In[40]:


for raw in range(5):
    for col in range(5):
        if raw in (0,4):
            print("*",end=" ")
        elif raw in (1,2,3,4) and col in (0,4):
            print("*",end=" ")
        else:
            print(" ",end=" ")
    print()


# In[41]:


for raw in range(5):
    for col in range(5):
        if raw in (0,4):
            print("*",end=" ")
        elif raw in (1,2,3,4) and col in (0,4):
            print("*",end=" ")
        elif raw in (0,2) and col in(0,2):
            print("R",end=" ")
        else:
            print(" ",end=" ")
    print()


# In[42]:


##while loop- 


# In[47]:


a=int(input("enter number:"))
while a<=6:
    print(a)
    a=a+1


# In[49]:


a=1
while a<=10:
    print(a)
    if a==10:
        break
    a=a+1


# In[52]:


a=10
while a<=10:
    print(a)
    if a==1:
        break
    a=a-1


# In[51]:


a=10
while a>0:
    print(a)
    a=a-1


# In[56]:


a = int(input("enter:"))
while a>0:
    a=int(input("enter -ve value to exit:"))


# In[60]:


##if str then exit or int continue to ask


# In[1]:


#sum of natural number using while loop
num=int(input("enter the number:"))
sum=0
hold=num
if num <= 0:
    print("enter a whole number")
else:
    while num > 0:
        sum=sum+num
        num=num-1
    print("sum of ",hold,"natural number is:",sum)


# In[2]:


#level till 5


# In[1]:


#while with else
counter=0
while counter<3:
    print("insdie loop")
    counter=counter+1
else:
    print("loop end")


# In[2]:


##functions


# In[9]:


def test1():
##doc string
    """function to use addition of the number"""
    c=a+b
    print(c)
a=int(input("value of a"))
b=int(input("value of b"))
test1()


# In[7]:


test1()


# In[10]:


##return is same as print but returns the value 


# In[14]:


def bmi1(weight,height):
    """to calculate bmi"""
    bmi=weight/height**2
    return bmi

weight=float(input("enter weigth in kg:"))
height=float(input("enter height in m:"))
bmi1(weight,height)


# In[16]:


bike=True
car=True
travel100km=bike or car
print("u have bike",{bike})
print('u have car',{car})
print('u can travel 100 km',{travel100km})
bike=True
car=False
travel100km=bike or car
print("u have bike",{bike})
print('u have car',{car})
print('u can travel 100 km',{travel100km})
bike=False
car=True
travel100km=bike or car
print("u have bike",{bike})
print('u have car',{car})
print('u can travel 100 km',{travel100km})
bike=False
car=False
travel100km=bike or car
print("u have bike",{bike})
print('u have car',{car})
print('u can travel 100 km',{travel100km})


# In[17]:


##using funtions
def travel_or_not(bike,car):
    travel100km=bike or car
    print("u have bike",{bike})
    print('u have car',{car})
    print('u can travel 100 km',{travel100km})
travel_or_not(True,True)
travel_or_not(True,False)
travel_or_not(False,True)
travel_or_not(False,False)
    


# In[21]:


def travel_or_not(Bike,Car):
    travel100km =Bike or Car
    print(f"u have bike{Bike}")
    print(f"u have car{Car}")
    print(f"u can travell 100 km{travel100km}\n")
bike=[False,False,True,True]
car=[False,True,False,True]
for bike,car in zip(Bike,Car):
    travel_or_not(bike,car)


# In[24]:


def travel_or_not(BIKE=True,CAR=False):
    Travelornot=BIKE or CAR
    print(f"u have bike:{BIKE}")
    print(f"u have car:{CAR}")
    print(f"u can travell 100 km:{Travelornot}\n")
travel_or_not()
    


# In[25]:


def travel_or_not(BIKE=True,CAR=False):
    Travelornot=BIKE or CAR
    print(f"u have bike:{BIKE}")
    print(f"u have car:{CAR}")
    print(f"u can travell 100 km:{Travelornot}\n")
travel_or_not(False,False)


# In[4]:


def bmi1(weight,height):
    """to calculate bmi"""
    bmi=weight/height**2
    if bmi<18:
        print("ur weak")
    elif bmi<24:
        print("ur healthy")
    elif bmi<30:
        print("ur over weight")
    else:
        print("ur obesed")
    return bmi

weight=float(input("enter weigth in kg:"))
height=float(input("enter height in m:"))
bmi1(weight,height)


# In[5]:


##arguments def by "*"


# In[6]:


def test(*a):
    return a
test(78,79,80,81)


# In[7]:


def test(*a,b):
    return a,b
test(78,80,81)


# In[8]:


def test(a,*b):
    return a,b
test(78,79,80,81)


# In[9]:


def test(*a,*b):
    return a,b
test(78,79,80,81)


# In[10]:


#thus only can be applicable for one variable not multiple,,, and would take the vale that is mentioned.


# In[13]:


##key argumet 
def test(**a):
    return a
test(x="rishab",y=2,z="saini")


# In[25]:


def test(a=10,*b,**c):
    return a,b,c
test(13,4,5,x="rishab")


# In[23]:


def marks(**kwrd):
    for subject,mark in kwrd.items():
        print(f"score in {subject}={mark}")
marks(sci=70,maths=90)


# In[26]:


##lambda function
x=lambda a,b:a+b


# In[27]:


x(5,5)


# In[28]:


#even and odd with lambda functions
x=lambda a:a%2==0


# In[29]:


x(4)


# In[30]:


x(5)


# In[33]:


x=lambda a,b:(a+b,a-b,a*b,a/b)


# In[34]:


x(4,6)


# In[35]:


bike=True
car=False
result=lambda bike,car:f"you can travel 100 km:{bike or car}\n"
print(f'\nresult:\n{result(bike,car)}')


# In[36]:


x=lambda a,b:a**b


# In[37]:


x(2,3)


# In[49]:


l=['rishab','monil']
x=lambda l:l[0][0]
x(l)


# # map(funtion,iterable)

# In[54]:


def text(x):
    return x[0][0]
list(map(text,["rishab","monil",'jalpa']))


# In[57]:


def test(x):
    return x**x
list(map(test,[1,2,3,4]))


# In[62]:


def inspect(x):
    if len(x)%2==0:
        return 'even'
    else:
        return x[0]
x=["rishab",'jalpa','monil']
list(map(inspect,x))


# # FILTER_____ filter(fun.name,iterable)

# In[66]:


def test(x):
    return x%2==0
list(filter(test,[1,2,3,4,5,6,7,8,10]))


# In[70]:


list(map(lambda x:"EVEN" if len(x)%2==0 else x[0],['rishab','monil','simran']))


# In[6]:


x=(input("enter name:"))
vowel=list(filter(lambda z: z in 'aeiou',x))
if len(vowel)==0:
    print("no vowel in name")
else:
    print("vowels are",vowel)


# In[8]:


d= lambda *a,b:[i+b for i in a]
d(1,2,3,b=4)


# In[13]:


def test(x):
    even=len(list(filter(lambda y:y%2==0,l)))
    print("count of even numbers are:",even)
    print("count of odd numbers are:",len(l)-even)
test([1,2,3,4,5,6,7,8,9] )


# In[14]:


##local and global------- value defined in the function is called local and defined outside the function is called global


# In[25]:


##eg:local
def test1():
    a=5
    return a
test1()
    


# In[27]:


##global
def test2(a):
    return a
a=5
test2(a)
    


# In[29]:


a="i love python"
def test():
    a="i love"
    print(a)
    print(id(a))
test()
print(a)
print(id(a))


# In[30]:


##id referes to the memory location.


# In[39]:


def test1(x):
    if type(x)==int:
        print(x)
    else:
        print("string")
        
test1([1,2,3])


# In[47]:


##try and exception if we want to try a funtion we use try and for returning the error we use exception case 
##we can also modify the exception command by print function


# In[42]:


try:
    a=5
    a/0
except:
    print("invalid funtion")


# In[44]:


try:
    a=5
    a/0
except Exception as e:
    print(e)


# In[8]:


try:
    a=int(input("enter int only"))
except Exception as e:
    print(e)


# In[48]:


##file handling we can work on file in 6 ways w-write, r-read, a-append, r+ used for reading, seek- for removing aplhabets till


# In[49]:


f=open("test.txt","w")


# In[50]:


get_ipython().run_line_magic('ls', '')


# In[54]:


f.write("hi my name is rishabjit saini. i an learning python programming from jalpa mam")


# In[55]:


f.close()


# In[57]:


f=open("test.txt","r")


# In[58]:


f=open("test.txt","a")


# In[59]:


f.write("futher adding i will learn it fast asap.")


# In[60]:


f.close()


# In[61]:


f=open("test.txt","r")


# In[62]:


#cant open in read mode so we use f.readline()


# In[63]:


f.readline()


# In[64]:


f.close()


# In[65]:


f1=open("text2.txt","w")


# In[66]:


f1.write("""Aliens is a 1986 science fiction action film written and directed by James Cameron. It is the sequel to the 1979 science fiction horror film Alien, and the second film in the Alien franchise. Set in the far future, it stars Sigourney Weaver as Ellen Ripley, the sole survivor of an alien attack on her ship. When communications are lost with a human colony on the moon where her crew first saw the alien creatures, Ripley agrees to return to the site with a unit of Colonial Marines to investigate. Michael Biehn, Paul Reiser, Lance Henriksen, and Carrie Henn are featured in supporting roles.

Despite the success of Alien, its sequel took years to develop due to lawsuits, a lack of enthusiasm from 20th Century Fox, and repeated management changes. Although relatively inexperienced, Cameron was hired to write a story for Aliens in 1983 on the strength of his scripts for The Terminator (1984) and Rambo: First Blood Part II (1985). The project stalled again until new Fox executive Lawrence Gordon pursued a sequel. On an approximately $18.5 million budget, Aliens began principal photography in September 1985 and concluded in January 1986. Like its development, filming was tumultuous and rife with conflicts between Cameron and the British crew at Pinewood Studios. The difficult shoot affected the composer, James Horner, who was given little time to record the music.""")


# In[69]:


f1=open("text2.txt","r+")


# In[70]:


f1.read()


# In[71]:


f1.seek(5)


# In[72]:


f1.read()


# In[73]:


f1.close()


# In[74]:


f1=open("text2.txt","r+")
for i in f1:
    print(i,end="-")


# In[75]:


f1.close()


# In[80]:


try:
    f=open("test4.txt","r")
except Exception as e:
    print(e)


# In[90]:


try:
    dict1={1:"rishab",2:"saini"}
    dict1['z']=int(input())
    print(dict1)
except:
    print('error')
        
        


# In[107]:


##bmi try exeption weight height user defined.
try:
    def bmi1(weight,height):
        """to calculate bmi"""
        bmi=weight/height**2
        print(bmi)
except:
    print("error in code")
try:
    weight=float(input("enter weigth in kg:"))
    height=float(input("enter height in m:"))
    bmi1(weight,height)
except Exception as e:
    print(e)
        


# In[130]:



try:
    def test1(c):
        f=(c*(9/5))+32
        print(f)
    c=float(input("enter temprature in celsius"))
    test1(c)
except Exception as e:
    print(e)

    


# In[4]:


try:
    a = int(input("enter:"))
    while type(a)!=int:
        a=int(input("enter int value to exit:"))
except:
    print("enter a int not str")


# In[1]:


def integer():
    while True:
        try:
            x=int(input())
            break
        except Exception as e:
            print("enter the input again",e)
integer()


# In[2]:


##raise exception error


# In[6]:


def test(a):
    if a=="sjs":
        raise ZeroDivisionError("please enter the key properly")
    return a
test('sjs')


# In[21]:


dict1={1:"rishab",2:"saini"}
dict1['z']=(input())
if type(dict1['z'])==int:
        raise ZeroDivisionError("enter str")


# In[ ]:


def test():
    dict1={1:"rishab",2:"saini"}
    dict1['z']=int(input())
    if type(dict1['z'])==int:
        raise ZeroDivisionError("enter str")
    return dict1
test()


# In[2]:


try:
    dict1={1:"rishab",2:"saini"}
    dict1['z']=int(input())
    f=open("test2","r")
except ValueError as xyz:
    print(xyz)
except FileNotFoundError as e:
    print(e)
except Exception as ee:
    print(e)


# In[3]:


import logging
logging.basicConfig(filename='test404.log', level=logging.INFO)
logging.info("this is my info log")
logging.warning("this is my warning log")
logging.error("this is my error log")
logging.shutdown()


# In[4]:


pwd()


# In[3]:


import logging
logging.basicConfig(filename='test401.log', level=logging.DEBUG, format='%(asctime)s%(levelname)s%(message)s')
logging.info(" this is my info log")
logging.warning(" this is my warning log")
logging.error(" this is my error log")
logging.shutdown()


# In[8]:


pwd()


# In[2]:


ls


# In[3]:


import logging
def divbyzero(a,b):
    logging.basicConfig(filename='test402.log', level=logging.INFO)
    logging.info("this my code and i try to enter %s and %s",a,b)
    try: 
        div=a/b
        logging.info("success")
    except Exception as e:
        logging.error("error haas happend")
        logging.exception("Exception occured"+str(e))
logging.shutdown()
divbyzero(4,0)
    


# In[8]:


import logging
def bmi1(w,h):
    logging.basicConfig(filename='test403.log', level=logging.INFO)
    logging.info("code for BMI weight:%s and height:%s",w,h)
    try:
        bmi=w/h**2
        logging.info("ur BMI is ",bmi)
        print(bmi)
    except Exception as e:
        logging.error("error occured")
        logging.exception("Exception occured"+str(e))
logging.shutdown()
bmi1(95,1.86)
        


# In[8]:


import logging
logging.basicConfig(filename='test405.log', level=logging.DEBUG, format='%(asctime)s%(levelname)s%(message)s')
def op(x):
    if x<0:
        raise ValueError("number cant be negative")
    else:
        logging.info("success")
try:
    x=int(input("enter a number"))
    op(x)
except Exception as e:
    logging.exception("error:%s",str(e))
logging.shutdown()


# In[9]:


###2023 calen , html calen,  shutdown the system, todays date with time, print date for 5 dayys ahead and 5 dasy before,
##upercase convert, lowercase convert , file rename 


# In[12]:


import calendar

print ("The calendar of year 2018 is : ")
print (calendar.calendar(2023))


# In[13]:



import os
  
shutdown = input("Do you wish to shutdown your computer ? (yes / no): ")
  
if shutdown == 'no':
    exit()
else:
    os.system("shutdown /s /t 1")


# In[2]:



text = 'geeKs For geEkS'

print("Original String:")
print(text)

print("\nConverted String:")
print(text.upper())


# In[3]:



text = 'geeKs For geEkS'

print("Original String:")
print(text)

print("\nConverted String:")
print(text.lower())


# In[5]:


a=[1,2,3,4]
b=[5,6,7,8]


# In[ ]:




