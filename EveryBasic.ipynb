{
 "cells": [
  {
   "cell_type": "code",
   "execution_count": 1,
   "id": "58a459b9",
   "metadata": {},
   "outputs": [
    {
     "data": {
      "text/plain": [
       "'Hello world'"
      ]
     },
     "execution_count": 1,
     "metadata": {},
     "output_type": "execute_result"
    }
   ],
   "source": [
    "\"Hello world\""
   ]
  },
  {
   "cell_type": "markdown",
   "id": "fd1e3ad9",
   "metadata": {},
   "source": [
    "# Print statements in python"
   ]
  },
  {
   "cell_type": "code",
   "execution_count": null,
   "id": "3d15beb2",
   "metadata": {},
   "outputs": [],
   "source": [
    "##DAY 1"
   ]
  },
  {
   "cell_type": "code",
   "execution_count": 2,
   "id": "c2533c86",
   "metadata": {},
   "outputs": [
    {
     "name": "stdout",
     "output_type": "stream",
     "text": [
      "hello world\n"
     ]
    }
   ],
   "source": [
    "print(\"hello world\")"
   ]
  },
  {
   "cell_type": "code",
   "execution_count": 1,
   "id": "9b9552cd",
   "metadata": {},
   "outputs": [
    {
     "name": "stdout",
     "output_type": "stream",
     "text": [
      "Good morning rishab\n"
     ]
    }
   ],
   "source": [
    "a='rishab'\n",
    "print(\"Good morning\",a)"
   ]
  },
  {
   "cell_type": "code",
   "execution_count": 4,
   "id": "e4a15ce5",
   "metadata": {},
   "outputs": [
    {
     "name": "stdout",
     "output_type": "stream",
     "text": [
      "Good morning rishab\n"
     ]
    }
   ],
   "source": [
    "a=\"rishab\"\n",
    "print(\"Good morning\",a)"
   ]
  },
  {
   "cell_type": "code",
   "execution_count": 5,
   "id": "9f28ef62",
   "metadata": {},
   "outputs": [
    {
     "name": "stdout",
     "output_type": "stream",
     "text": [
      "rishab Good morning\n"
     ]
    }
   ],
   "source": [
    "a= \"rishab\"\n",
    "print(f\"{a} Good morning\")"
   ]
  },
  {
   "cell_type": "code",
   "execution_count": 6,
   "id": "e8407c60",
   "metadata": {},
   "outputs": [
    {
     "name": "stdout",
     "output_type": "stream",
     "text": [
      "10 0 25 1.0\n"
     ]
    }
   ],
   "source": [
    "a=5\n",
    "b=5\n",
    "print(a+b,a-b,a*b,a/b)"
   ]
  },
  {
   "cell_type": "code",
   "execution_count": 7,
   "id": "43bd4e92",
   "metadata": {},
   "outputs": [
    {
     "name": "stdout",
     "output_type": "stream",
     "text": [
      "a+b\n",
      "a-b\n",
      "a*b\n",
      "a/b\n"
     ]
    }
   ],
   "source": [
    "a=5\n",
    "b=5\n",
    "print(\"a+b\")\n",
    "print(\"a-b\")\n",
    "print(\"a*b\")\n",
    "print(\"a/b\")"
   ]
  },
  {
   "cell_type": "code",
   "execution_count": 8,
   "id": "f183b3da",
   "metadata": {},
   "outputs": [
    {
     "name": "stdout",
     "output_type": "stream",
     "text": [
      "10\n",
      "0\n",
      "25\n",
      "1.0\n"
     ]
    }
   ],
   "source": [
    "a=5\n",
    "b=5\n",
    "print(a+b)\n",
    "print(a-b)\n",
    "print(a*b)\n",
    "print(a/b)"
   ]
  },
  {
   "cell_type": "code",
   "execution_count": 9,
   "id": "6086b4e4",
   "metadata": {},
   "outputs": [
    {
     "name": "stdout",
     "output_type": "stream",
     "text": [
      "4\n",
      "5\n"
     ]
    }
   ],
   "source": [
    "a=input()\n",
    "b=input()"
   ]
  },
  {
   "cell_type": "code",
   "execution_count": 10,
   "id": "647c53ce",
   "metadata": {},
   "outputs": [
    {
     "data": {
      "text/plain": [
       "'45'"
      ]
     },
     "execution_count": 10,
     "metadata": {},
     "output_type": "execute_result"
    }
   ],
   "source": [
    "a+b\n"
   ]
  },
  {
   "cell_type": "code",
   "execution_count": 11,
   "id": "d8962176",
   "metadata": {},
   "outputs": [
    {
     "data": {
      "text/plain": [
       "str"
      ]
     },
     "execution_count": 11,
     "metadata": {},
     "output_type": "execute_result"
    }
   ],
   "source": [
    "type(a)"
   ]
  },
  {
   "cell_type": "code",
   "execution_count": 12,
   "id": "8f418337",
   "metadata": {},
   "outputs": [
    {
     "data": {
      "text/plain": [
       "str"
      ]
     },
     "execution_count": 12,
     "metadata": {},
     "output_type": "execute_result"
    }
   ],
   "source": [
    "type(b)"
   ]
  },
  {
   "cell_type": "code",
   "execution_count": 13,
   "id": "6f47c1cd",
   "metadata": {},
   "outputs": [],
   "source": [
    "c=4.5\n"
   ]
  },
  {
   "cell_type": "code",
   "execution_count": 14,
   "id": "6483391f",
   "metadata": {},
   "outputs": [
    {
     "data": {
      "text/plain": [
       "float"
      ]
     },
     "execution_count": 14,
     "metadata": {},
     "output_type": "execute_result"
    }
   ],
   "source": [
    "type(c)"
   ]
  },
  {
   "cell_type": "code",
   "execution_count": 15,
   "id": "0ddd1e3e",
   "metadata": {},
   "outputs": [
    {
     "name": "stdout",
     "output_type": "stream",
     "text": [
      "4\n",
      "5\n"
     ]
    }
   ],
   "source": [
    "a=int(input())\n",
    "b=int(input())"
   ]
  },
  {
   "cell_type": "code",
   "execution_count": 16,
   "id": "eaa59e83",
   "metadata": {},
   "outputs": [
    {
     "data": {
      "text/plain": [
       "9"
      ]
     },
     "execution_count": 16,
     "metadata": {},
     "output_type": "execute_result"
    }
   ],
   "source": [
    "a+b\n"
   ]
  },
  {
   "cell_type": "code",
   "execution_count": 17,
   "id": "f4ad8db0",
   "metadata": {},
   "outputs": [],
   "source": [
    "d=6+6j"
   ]
  },
  {
   "cell_type": "code",
   "execution_count": 18,
   "id": "f5532039",
   "metadata": {},
   "outputs": [
    {
     "data": {
      "text/plain": [
       "complex"
      ]
     },
     "execution_count": 18,
     "metadata": {},
     "output_type": "execute_result"
    }
   ],
   "source": [
    "type(d)"
   ]
  },
  {
   "cell_type": "code",
   "execution_count": 1,
   "id": "a35d7979",
   "metadata": {},
   "outputs": [
    {
     "data": {
      "text/plain": [
       "True"
      ]
     },
     "execution_count": 1,
     "metadata": {},
     "output_type": "execute_result"
    }
   ],
   "source": [
    "a=5\n",
    "b=6\n",
    "a<b"
   ]
  },
  {
   "cell_type": "code",
   "execution_count": 2,
   "id": "c4b51b59",
   "metadata": {},
   "outputs": [],
   "source": [
    "## DAY 2"
   ]
  },
  {
   "cell_type": "markdown",
   "id": "28c7b787",
   "metadata": {},
   "source": [
    "\n",
    "# IF-ESLE Statements"
   ]
  },
  {
   "cell_type": "code",
   "execution_count": 2,
   "id": "ffdd9a7e",
   "metadata": {},
   "outputs": [
    {
     "ename": "IndentationError",
     "evalue": "expected an indented block (884299873.py, line 3)",
     "output_type": "error",
     "traceback": [
      "\u001b[1;36m  Input \u001b[1;32mIn [2]\u001b[1;36m\u001b[0m\n\u001b[1;33m    if a<b:\u001b[0m\n\u001b[1;37m           ^\u001b[0m\n\u001b[1;31mIndentationError\u001b[0m\u001b[1;31m:\u001b[0m expected an indented block\n"
     ]
    }
   ],
   "source": [
    "a=4\n",
    "b=6\n",
    "if a<b:"
   ]
  },
  {
   "cell_type": "code",
   "execution_count": 3,
   "id": "136917ae",
   "metadata": {},
   "outputs": [
    {
     "name": "stdout",
     "output_type": "stream",
     "text": [
      "b is grater than a\n"
     ]
    }
   ],
   "source": [
    "a=4\n",
    "b=6\n",
    "if a<b:\n",
    "    print(\"b is grater than a\")\n",
    "else:\n",
    "    print(\"a is grater than b\")"
   ]
  },
  {
   "cell_type": "code",
   "execution_count": 4,
   "id": "81661ae8",
   "metadata": {},
   "outputs": [
    {
     "name": "stdout",
     "output_type": "stream",
     "text": [
      "8\n",
      "10\n",
      "b is grater than a\n"
     ]
    }
   ],
   "source": [
    "a=int(input())\n",
    "b=int(input())\n",
    "if a<b:\n",
    "    print(\"b is grater than a\")\n",
    "else:\n",
    "    print(\"a is grater than b\")"
   ]
  },
  {
   "cell_type": "code",
   "execution_count": 5,
   "id": "e6b1d38f",
   "metadata": {},
   "outputs": [
    {
     "name": "stdout",
     "output_type": "stream",
     "text": [
      "10\n",
      "6\n",
      "a is grater than b\n"
     ]
    }
   ],
   "source": [
    "a=int(input())\n",
    "b=int(input())\n",
    "if a<b:\n",
    "    print(\"b is grater than a\")\n",
    "else:\n",
    "    print(\"a is grater than b\")"
   ]
  },
  {
   "cell_type": "code",
   "execution_count": 6,
   "id": "75252eca",
   "metadata": {},
   "outputs": [
    {
     "name": "stdout",
     "output_type": "stream",
     "text": [
      "a is a bigger name\n"
     ]
    }
   ],
   "source": [
    "a=\"rishabjit\"\n",
    "b=\"jalpa\"\n",
    "if len(a)<len(b):\n",
    "    print(\"b is a bigger name\")\n",
    "else:\n",
    "    print(\"a is a bigger name\")\n",
    "    "
   ]
  },
  {
   "cell_type": "code",
   "execution_count": 7,
   "id": "b0294454",
   "metadata": {},
   "outputs": [
    {
     "name": "stdout",
     "output_type": "stream",
     "text": [
      "jalpa\n",
      "rishabjit\n",
      "b is a bigger name\n"
     ]
    }
   ],
   "source": [
    "a=str(input())\n",
    "b=str(input())\n",
    "if len(a)<len(b):\n",
    "    print(\"b is a bigger name\")\n",
    "else:\n",
    "    print(\"a is a bigger name\")\n",
    "    "
   ]
  },
  {
   "cell_type": "code",
   "execution_count": 10,
   "id": "ac91da13",
   "metadata": {},
   "outputs": [
    {
     "name": "stdout",
     "output_type": "stream",
     "text": [
      "6\n",
      "number is positive\n"
     ]
    }
   ],
   "source": [
    "a=int(input())\n",
    "if a>0:\n",
    "    print(\"number is positive\")\n",
    "else:\n",
    "    print(\"number is negative\")\n",
    "    "
   ]
  },
  {
   "cell_type": "code",
   "execution_count": 13,
   "id": "8f84e12b",
   "metadata": {},
   "outputs": [
    {
     "name": "stdout",
     "output_type": "stream",
     "text": [
      "6\n",
      "number is even\n"
     ]
    }
   ],
   "source": [
    "a=int(input())\n",
    "if a%2==0:\n",
    "    print(\"number is even\")\n",
    "else:\n",
    "    print(\"number is odd\")\n",
    "    "
   ]
  },
  {
   "cell_type": "code",
   "execution_count": 15,
   "id": "1cddde69",
   "metadata": {},
   "outputs": [],
   "source": [
    "a = \"rishabjit\"\n"
   ]
  },
  {
   "cell_type": "code",
   "execution_count": 16,
   "id": "db65fcc2",
   "metadata": {},
   "outputs": [
    {
     "data": {
      "text/plain": [
       "9"
      ]
     },
     "execution_count": 16,
     "metadata": {},
     "output_type": "execute_result"
    }
   ],
   "source": [
    "len(a)"
   ]
  },
  {
   "cell_type": "code",
   "execution_count": 17,
   "id": "8724bdb9",
   "metadata": {},
   "outputs": [
    {
     "data": {
      "text/plain": [
       "'i'"
      ]
     },
     "execution_count": 17,
     "metadata": {},
     "output_type": "execute_result"
    }
   ],
   "source": [
    "a[1]"
   ]
  },
  {
   "cell_type": "code",
   "execution_count": 18,
   "id": "126bbdc9",
   "metadata": {},
   "outputs": [
    {
     "data": {
      "text/plain": [
       "'r'"
      ]
     },
     "execution_count": 18,
     "metadata": {},
     "output_type": "execute_result"
    }
   ],
   "source": [
    "a[0]"
   ]
  },
  {
   "cell_type": "code",
   "execution_count": 19,
   "id": "6cf309b4",
   "metadata": {},
   "outputs": [
    {
     "data": {
      "text/plain": [
       "'t'"
      ]
     },
     "execution_count": 19,
     "metadata": {},
     "output_type": "execute_result"
    }
   ],
   "source": [
    "a[-1]"
   ]
  },
  {
   "cell_type": "code",
   "execution_count": 20,
   "id": "c5442bb3",
   "metadata": {},
   "outputs": [
    {
     "data": {
      "text/plain": [
       "'ris'"
      ]
     },
     "execution_count": 20,
     "metadata": {},
     "output_type": "execute_result"
    }
   ],
   "source": [
    "a[0:3]"
   ]
  },
  {
   "cell_type": "code",
   "execution_count": 21,
   "id": "aa69f828",
   "metadata": {},
   "outputs": [
    {
     "name": "stdout",
     "output_type": "stream",
     "text": [
      "first letter are different\n"
     ]
    }
   ],
   "source": [
    "a=\"rishabjit\"\n",
    "b=\"jalpa\"\n",
    "if a[0]==b[0]:\n",
    "    print(\"first letter are same\")\n",
    "else:\n",
    "    print(\"first letter are different\")"
   ]
  },
  {
   "cell_type": "code",
   "execution_count": 22,
   "id": "d8ed56a1",
   "metadata": {},
   "outputs": [
    {
     "name": "stdout",
     "output_type": "stream",
     "text": [
      "rishab\n",
      "roma\n",
      "first letter are same\n"
     ]
    }
   ],
   "source": [
    "a=str(input())\n",
    "b=str(input())\n",
    "if a[0]==b[0]:\n",
    "    print(\"first letter are same\")\n",
    "else:\n",
    "    print(\"first letter are different\")"
   ]
  },
  {
   "cell_type": "code",
   "execution_count": 23,
   "id": "fdd597a0",
   "metadata": {},
   "outputs": [],
   "source": [
    "a=\"rishabjit\""
   ]
  },
  {
   "cell_type": "code",
   "execution_count": 25,
   "id": "8162f084",
   "metadata": {},
   "outputs": [
    {
     "data": {
      "text/plain": [
       "9"
      ]
     },
     "execution_count": 25,
     "metadata": {},
     "output_type": "execute_result"
    }
   ],
   "source": [
    "len(a)\n"
   ]
  },
  {
   "cell_type": "code",
   "execution_count": 26,
   "id": "c0e066d5",
   "metadata": {
    "scrolled": true
   },
   "outputs": [
    {
     "data": {
      "text/plain": [
       "''"
      ]
     },
     "execution_count": 26,
     "metadata": {},
     "output_type": "execute_result"
    }
   ],
   "source": [
    "a[-1:-9]"
   ]
  },
  {
   "cell_type": "markdown",
   "id": "e9201a2b",
   "metadata": {},
   "source": [
    "##to write name in reverse"
   ]
  },
  {
   "cell_type": "code",
   "execution_count": 30,
   "id": "6169afad",
   "metadata": {},
   "outputs": [
    {
     "data": {
      "text/plain": [
       "'tijbahsir'"
      ]
     },
     "execution_count": 30,
     "metadata": {},
     "output_type": "execute_result"
    }
   ],
   "source": [
    "a[::-1]"
   ]
  },
  {
   "cell_type": "markdown",
   "id": "e8dc8542",
   "metadata": {},
   "source": [
    "##pelindrome word eg.kanak,eye,wow,etc."
   ]
  },
  {
   "cell_type": "code",
   "execution_count": 32,
   "id": "3d7301d7",
   "metadata": {},
   "outputs": [
    {
     "name": "stdout",
     "output_type": "stream",
     "text": [
      "kanak\n",
      "it is a pelindrome\n"
     ]
    }
   ],
   "source": [
    "a=str(input())\n",
    "if a==a[::-1]:\n",
    "    print(\"it is a pelindrome\")\n",
    "else:\n",
    "    print(\"it is not a pelindrome\")"
   ]
  },
  {
   "cell_type": "code",
   "execution_count": 33,
   "id": "789f03d2",
   "metadata": {},
   "outputs": [
    {
     "name": "stdout",
     "output_type": "stream",
     "text": [
      "rishab\n",
      "it is not a pelindrome\n"
     ]
    }
   ],
   "source": [
    "a=str(input())\n",
    "if a==a[::-1]:\n",
    "    print(\"it is a pelindrome\")\n",
    "else:\n",
    "    print(\"it is not a pelindrome\")"
   ]
  },
  {
   "cell_type": "code",
   "execution_count": 35,
   "id": "fb0bb061",
   "metadata": {},
   "outputs": [],
   "source": [
    "##DAY 3"
   ]
  },
  {
   "cell_type": "markdown",
   "id": "eb19688b",
   "metadata": {},
   "source": [
    "# Nested if"
   ]
  },
  {
   "cell_type": "code",
   "execution_count": null,
   "id": "69836174",
   "metadata": {},
   "outputs": [],
   "source": [
    "a = int(input(\"enter the number:\"))\n",
    "if a <= 0:\n",
    "    if a < 0:\n",
    "        print(\"number is negative\")\n",
    "    else: \n",
    "        print(\"number is zero\")\n",
    "else:\n",
    "    print(\"number is positive\")"
   ]
  },
  {
   "cell_type": "markdown",
   "id": "c1261a85",
   "metadata": {},
   "source": [
    "\n",
    "# Elif"
   ]
  },
  {
   "cell_type": "code",
   "execution_count": 8,
   "id": "cb482911",
   "metadata": {},
   "outputs": [
    {
     "name": "stdout",
     "output_type": "stream",
     "text": [
      "enter number:4\n",
      "positive\n"
     ]
    }
   ],
   "source": [
    "a = int(input(\"enter number:\"))\n",
    "if a < 0:\n",
    "    print(\"negative\")\n",
    "elif a == 0:\n",
    "    print(\"zero\")\n",
    "else:\n",
    "    print(\"positive\")\n",
    "\n"
   ]
  },
  {
   "cell_type": "code",
   "execution_count": 16,
   "id": "3ce844ac",
   "metadata": {},
   "outputs": [
    {
     "name": "stdout",
     "output_type": "stream",
     "text": [
      "enter marks:100\n",
      "dictinction\n"
     ]
    }
   ],
   "source": [
    "a=int(input(\"enter marks:\"))\n",
    "if a<40:\n",
    "    print(\"fail\")\n",
    "elif a<50:\n",
    "    print(\"pass\")\n",
    "elif a<60:\n",
    "    print(\"second class\")\n",
    "elif a<70:\n",
    "    print(\"first class\")\n",
    "else:\n",
    "    print(\"dictinction\")\n"
   ]
  },
  {
   "cell_type": "code",
   "execution_count": 22,
   "id": "2fb98f38",
   "metadata": {},
   "outputs": [
    {
     "name": "stdout",
     "output_type": "stream",
     "text": [
      "enter income9000\n",
      "you have 20% discount\n",
      "discout is 2000.0\n"
     ]
    }
   ],
   "source": [
    "a=int(input(\"enter income\"))\n",
    "if a < 10000:\n",
    "    print(\"you have 20% discount\")\n",
    "    a=20*10000/100\n",
    "    print(\"discount is\",a)\n",
    "elif a < 20000:\n",
    "    print(\"you have 10% discount\",a*0.10)\n",
    "elif a < 30000:\n",
    "    print(\"you have 5% discount\")\n",
    "    a=5*10000/100\n",
    "    print(\"discount is\",a)\n",
    "else:\n",
    "    print(\"no discount\")"
   ]
  },
  {
   "cell_type": "markdown",
   "id": "91d12ad9",
   "metadata": {},
   "source": [
    "# Data structure\n",
    "##List"
   ]
  },
  {
   "cell_type": "code",
   "execution_count": 24,
   "id": "4d354ac6",
   "metadata": {},
   "outputs": [],
   "source": [
    "l=[2,3,4,8.8,\"rishab\",6+6j]"
   ]
  },
  {
   "cell_type": "code",
   "execution_count": 27,
   "id": "5a9a2a0f",
   "metadata": {},
   "outputs": [
    {
     "data": {
      "text/plain": [
       "list"
      ]
     },
     "execution_count": 27,
     "metadata": {},
     "output_type": "execute_result"
    }
   ],
   "source": [
    "type(l)"
   ]
  },
  {
   "cell_type": "code",
   "execution_count": 28,
   "id": "38a60885",
   "metadata": {},
   "outputs": [
    {
     "data": {
      "text/plain": [
       "2"
      ]
     },
     "execution_count": 28,
     "metadata": {},
     "output_type": "execute_result"
    }
   ],
   "source": [
    "l[0]"
   ]
  },
  {
   "cell_type": "code",
   "execution_count": 30,
   "id": "b8ece4c9",
   "metadata": {},
   "outputs": [
    {
     "data": {
      "text/plain": [
       "(6+6j)"
      ]
     },
     "execution_count": 30,
     "metadata": {},
     "output_type": "execute_result"
    }
   ],
   "source": [
    "l[-1]"
   ]
  },
  {
   "cell_type": "code",
   "execution_count": 31,
   "id": "effcb800",
   "metadata": {},
   "outputs": [
    {
     "data": {
      "text/plain": [
       "[(6+6j), 'rishab', 8.8, 4, 3, 2]"
      ]
     },
     "execution_count": 31,
     "metadata": {},
     "output_type": "execute_result"
    }
   ],
   "source": [
    "l[::-1]"
   ]
  },
  {
   "cell_type": "code",
   "execution_count": 33,
   "id": "711d744d",
   "metadata": {},
   "outputs": [
    {
     "data": {
      "text/plain": [
       "[2, 4, 'rishab']"
      ]
     },
     "execution_count": 33,
     "metadata": {},
     "output_type": "execute_result"
    }
   ],
   "source": [
    "l[0:5:2]"
   ]
  },
  {
   "cell_type": "code",
   "execution_count": 34,
   "id": "dfc5e547",
   "metadata": {},
   "outputs": [],
   "source": [
    "l[1]=\"jalpa\""
   ]
  },
  {
   "cell_type": "code",
   "execution_count": 35,
   "id": "1a0eeaef",
   "metadata": {},
   "outputs": [
    {
     "data": {
      "text/plain": [
       "[2, 'jalpa', 4, 8.8, 'rishab', (6+6j)]"
      ]
     },
     "execution_count": 35,
     "metadata": {},
     "output_type": "execute_result"
    }
   ],
   "source": [
    "l"
   ]
  },
  {
   "cell_type": "code",
   "execution_count": 37,
   "id": "a69840b2",
   "metadata": {},
   "outputs": [],
   "source": [
    "l=[2,3,4,8.8,\"rishab\",6+6j,[0,1,[0,2,8],2,3]]"
   ]
  },
  {
   "cell_type": "code",
   "execution_count": 38,
   "id": "b6c9665f",
   "metadata": {},
   "outputs": [
    {
     "data": {
      "text/plain": [
       "7"
      ]
     },
     "execution_count": 38,
     "metadata": {},
     "output_type": "execute_result"
    }
   ],
   "source": [
    "len(l)"
   ]
  },
  {
   "cell_type": "code",
   "execution_count": 39,
   "id": "597e91d8",
   "metadata": {},
   "outputs": [
    {
     "data": {
      "text/plain": [
       "[0, 1, [0, 2, 8], 2, 3]"
      ]
     },
     "execution_count": 39,
     "metadata": {},
     "output_type": "execute_result"
    }
   ],
   "source": [
    "l[6]"
   ]
  },
  {
   "cell_type": "code",
   "execution_count": 40,
   "id": "4cb26d4e",
   "metadata": {},
   "outputs": [
    {
     "data": {
      "text/plain": [
       "2"
      ]
     },
     "execution_count": 40,
     "metadata": {},
     "output_type": "execute_result"
    }
   ],
   "source": [
    "l[6][2][1]"
   ]
  },
  {
   "cell_type": "code",
   "execution_count": 41,
   "id": "98a0883a",
   "metadata": {},
   "outputs": [],
   "source": [
    "#sets"
   ]
  },
  {
   "cell_type": "code",
   "execution_count": 42,
   "id": "5b7eb3b6",
   "metadata": {},
   "outputs": [],
   "source": [
    "s={0,1,2,2,3,3,\"x\",\"z\"}"
   ]
  },
  {
   "cell_type": "code",
   "execution_count": 43,
   "id": "87c78187",
   "metadata": {},
   "outputs": [
    {
     "data": {
      "text/plain": [
       "{0, 1, 2, 3, 'x', 'z'}"
      ]
     },
     "execution_count": 43,
     "metadata": {},
     "output_type": "execute_result"
    }
   ],
   "source": [
    "s\n"
   ]
  },
  {
   "cell_type": "markdown",
   "id": "c1e8e88a",
   "metadata": {},
   "source": [
    "##in set the number repated are taken as one and we cant find out the single element"
   ]
  },
  {
   "cell_type": "code",
   "execution_count": 47,
   "id": "0368150d",
   "metadata": {},
   "outputs": [
    {
     "ename": "TypeError",
     "evalue": "unhashable type: 'list'",
     "output_type": "error",
     "traceback": [
      "\u001b[1;31m---------------------------------------------------------------------------\u001b[0m",
      "\u001b[1;31mTypeError\u001b[0m                                 Traceback (most recent call last)",
      "Input \u001b[1;32mIn [47]\u001b[0m, in \u001b[0;36m<cell line: 1>\u001b[1;34m()\u001b[0m\n\u001b[1;32m----> 1\u001b[0m s\u001b[38;5;241m=\u001b[39m{\u001b[38;5;241m0\u001b[39m,\u001b[38;5;241m1\u001b[39m,\u001b[38;5;241m2\u001b[39m,\u001b[38;5;241m2\u001b[39m,\u001b[38;5;241m3\u001b[39m,\u001b[38;5;241m3\u001b[39m,\u001b[38;5;124m\"\u001b[39m\u001b[38;5;124mx\u001b[39m\u001b[38;5;124m\"\u001b[39m,[\u001b[38;5;241m1\u001b[39m,\u001b[38;5;241m2\u001b[39m,\u001b[38;5;241m3\u001b[39m]}\n",
      "\u001b[1;31mTypeError\u001b[0m: unhashable type: 'list'"
     ]
    }
   ],
   "source": [
    "s={0,1,2,2,3,3,\"x\",[1,2,3]}"
   ]
  },
  {
   "cell_type": "code",
   "execution_count": 48,
   "id": "0d7453e4",
   "metadata": {},
   "outputs": [],
   "source": [
    "l=[1,2,3,4,{1,2,2,3,3}]"
   ]
  },
  {
   "cell_type": "code",
   "execution_count": 49,
   "id": "b0f863be",
   "metadata": {},
   "outputs": [],
   "source": [
    "#we can define set in list but cant define list in sets."
   ]
  },
  {
   "cell_type": "code",
   "execution_count": 50,
   "id": "488aba2e",
   "metadata": {},
   "outputs": [],
   "source": [
    "#tuple- cant change vale in tuple."
   ]
  },
  {
   "cell_type": "code",
   "execution_count": 91,
   "id": "5f3bd673",
   "metadata": {},
   "outputs": [],
   "source": [
    "#dict (keys and values)"
   ]
  },
  {
   "cell_type": "code",
   "execution_count": 51,
   "id": "4919c0ef",
   "metadata": {},
   "outputs": [
    {
     "data": {
      "text/plain": [
       "dict"
      ]
     },
     "execution_count": 51,
     "metadata": {},
     "output_type": "execute_result"
    }
   ],
   "source": [
    "dict"
   ]
  },
  {
   "cell_type": "code",
   "execution_count": 71,
   "id": "84fc113f",
   "metadata": {},
   "outputs": [],
   "source": [
    "dict1 = {1:'jslps',2:'xyz',3:[5,6,7],\"x\":(4,6,7),'y':{5,6,7}}"
   ]
  },
  {
   "cell_type": "code",
   "execution_count": 74,
   "id": "8709fb01",
   "metadata": {},
   "outputs": [
    {
     "data": {
      "text/plain": [
       "{5, 6, 7}"
      ]
     },
     "execution_count": 74,
     "metadata": {},
     "output_type": "execute_result"
    }
   ],
   "source": [
    "dict1['y']"
   ]
  },
  {
   "cell_type": "code",
   "execution_count": 75,
   "id": "76c7dde0",
   "metadata": {},
   "outputs": [
    {
     "data": {
      "text/plain": [
       "dict_keys([1, 2, 3, 'x', 'y'])"
      ]
     },
     "execution_count": 75,
     "metadata": {},
     "output_type": "execute_result"
    }
   ],
   "source": [
    "dict1.keys()"
   ]
  },
  {
   "cell_type": "code",
   "execution_count": 76,
   "id": "3a4747ed",
   "metadata": {},
   "outputs": [
    {
     "data": {
      "text/plain": [
       "dict_values(['jslps', 'xyz', [5, 6, 7], (4, 6, 7), {5, 6, 7}])"
      ]
     },
     "execution_count": 76,
     "metadata": {},
     "output_type": "execute_result"
    }
   ],
   "source": [
    "dict1.values()"
   ]
  },
  {
   "cell_type": "code",
   "execution_count": 77,
   "id": "b4109696",
   "metadata": {},
   "outputs": [],
   "source": [
    "dict2 = {1:{5,6,6,6,7,8,'jalpa'},2:[5,6,7,8,[9,9,10]],'x':(6,7,8,34,45,56)}"
   ]
  },
  {
   "cell_type": "code",
   "execution_count": 78,
   "id": "db1d4081",
   "metadata": {},
   "outputs": [
    {
     "data": {
      "text/plain": [
       "[5, 6, 7, 8, [9, 9, 10]]"
      ]
     },
     "execution_count": 78,
     "metadata": {},
     "output_type": "execute_result"
    }
   ],
   "source": [
    "dict2[2]"
   ]
  },
  {
   "cell_type": "code",
   "execution_count": 80,
   "id": "a8b10603",
   "metadata": {},
   "outputs": [
    {
     "data": {
      "text/plain": [
       "[9, 9, 10]"
      ]
     },
     "execution_count": 80,
     "metadata": {},
     "output_type": "execute_result"
    }
   ],
   "source": [
    "dict2[2][-1]"
   ]
  },
  {
   "cell_type": "code",
   "execution_count": 82,
   "id": "d0e1c60d",
   "metadata": {},
   "outputs": [
    {
     "data": {
      "text/plain": [
       "10"
      ]
     },
     "execution_count": 82,
     "metadata": {},
     "output_type": "execute_result"
    }
   ],
   "source": [
    "dict2[2][-1][2]"
   ]
  },
  {
   "cell_type": "code",
   "execution_count": 89,
   "id": "908035b7",
   "metadata": {},
   "outputs": [
    {
     "name": "stdout",
     "output_type": "stream",
     "text": [
      "length is not same\n"
     ]
    }
   ],
   "source": [
    "l1=[1,2,3,4]\n",
    "l2=[2,5,8,9,10]\n",
    "if len(l1)==len(l2):\n",
    "    print(\"length of list are same\")\n",
    "else:\n",
    "    print(\"length is not same\")"
   ]
  },
  {
   "cell_type": "code",
   "execution_count": 90,
   "id": "17bf908e",
   "metadata": {},
   "outputs": [
    {
     "name": "stdout",
     "output_type": "stream",
     "text": [
      "length of list are same\n"
     ]
    }
   ],
   "source": [
    "l1=[1,2,3,4]\n",
    "l2=[2,5,8,9]\n",
    "if len(l1)==len(l2):\n",
    "    print(\"length of list are same\")\n",
    "else:\n",
    "    print(\"length is not same\")"
   ]
  },
  {
   "cell_type": "code",
   "execution_count": 92,
   "id": "4ac7ac04",
   "metadata": {},
   "outputs": [
    {
     "name": "stdout",
     "output_type": "stream",
     "text": [
      "first letter is not same\n"
     ]
    }
   ],
   "source": [
    "l1=[1,2,3,4]\n",
    "l2=[2,5,8,9,10]\n",
    "if l1[0]==l2[0]:\n",
    "    print(\"first letter of list are same\")\n",
    "else:\n",
    "    print(\"first letter is not same\")"
   ]
  },
  {
   "cell_type": "code",
   "execution_count": 94,
   "id": "654719d8",
   "metadata": {},
   "outputs": [
    {
     "name": "stdout",
     "output_type": "stream",
     "text": [
      "the type of first letter of list are same\n"
     ]
    }
   ],
   "source": [
    "l1=[1,2,3,4]\n",
    "l2=[2,5,8,9,10]\n",
    "if type(l1)==type(l2):\n",
    "    print(\"the type of first letter of list are same\")\n",
    "else:\n",
    "    print(\"the type of first letter is not same\")"
   ]
  },
  {
   "cell_type": "code",
   "execution_count": 111,
   "id": "bd1047fa",
   "metadata": {},
   "outputs": [],
   "source": [
    "##JSON-JavaScript Object Notation"
   ]
  },
  {
   "cell_type": "code",
   "execution_count": 97,
   "id": "41910aa2",
   "metadata": {},
   "outputs": [],
   "source": [
    "x1={\"menu\": {  \n",
    "  \"id\": \"file\",  \n",
    "  \"value\": \"File\",  \n",
    "  \"popup\": {  \n",
    "    \"menuitem\": [  \n",
    "      {\"value\": \"New\", \"onclick\": \"CreateDoc()\"},  \n",
    "      {\"value\": \"Open\", \"onclick\": \"OpenDoc()\"},  \n",
    "      {\"value\": \"Save\", \"onclick\": \"SaveDoc()\"}  \n",
    "    ]  \n",
    "  }  \n",
    "}}  "
   ]
  },
  {
   "cell_type": "code",
   "execution_count": 98,
   "id": "966f4193",
   "metadata": {},
   "outputs": [
    {
     "data": {
      "text/plain": [
       "{'menu': {'id': 'file',\n",
       "  'value': 'File',\n",
       "  'popup': {'menuitem': [{'value': 'New', 'onclick': 'CreateDoc()'},\n",
       "    {'value': 'Open', 'onclick': 'OpenDoc()'},\n",
       "    {'value': 'Save', 'onclick': 'SaveDoc()'}]}}}"
      ]
     },
     "execution_count": 98,
     "metadata": {},
     "output_type": "execute_result"
    }
   ],
   "source": [
    "x1\n"
   ]
  },
  {
   "cell_type": "code",
   "execution_count": 110,
   "id": "48c2503d",
   "metadata": {},
   "outputs": [
    {
     "data": {
      "text/plain": [
       "'CreateDoc()'"
      ]
     },
     "execution_count": 110,
     "metadata": {},
     "output_type": "execute_result"
    }
   ],
   "source": [
    "x1[\"menu\"][\"popup\"][\"menuitem\"][0][\"onclick\"]"
   ]
  },
  {
   "cell_type": "code",
   "execution_count": 112,
   "id": "ff874b9d",
   "metadata": {},
   "outputs": [],
   "source": [
    "x2={\"widget\": {\n",
    "    \"debug\": \"on\",\n",
    "    \"window\": {\n",
    "        \"title\": \"Sample Konfabulator Widget\",\n",
    "        \"name\": \"main_window\",\n",
    "        \"width\": 500,\n",
    "        \"height\": 500\n",
    "    },\n",
    "    \"image\": { \n",
    "        \"src\": \"Images/Sun.png\",\n",
    "        \"name\": \"sun1\",\n",
    "        \"hOffset\": 250,\n",
    "        \"vOffset\": 250,\n",
    "        \"alignment\": \"center\"\n",
    "    },\n",
    "    \"text\": {\n",
    "        \"data\": \"Click Here\",\n",
    "        \"size\": 36,\n",
    "        \"style\": \"bold\",\n",
    "        \"name\": \"text1\",\n",
    "        \"hOffset\": 250,\n",
    "        \"vOffset\": 100,\n",
    "        \"alignment\": \"center\",\n",
    "        \"onMouseUp\": \"sun1.opacity = (sun1.opacity / 100) * 90;\"\n",
    "    }\n",
    "}}"
   ]
  },
  {
   "cell_type": "code",
   "execution_count": 116,
   "id": "4590fecb",
   "metadata": {},
   "outputs": [
    {
     "data": {
      "text/plain": [
       "'sun1.opacity = (sun1.opacity / 100) * 90;'"
      ]
     },
     "execution_count": 116,
     "metadata": {},
     "output_type": "execute_result"
    }
   ],
   "source": [
    "x2[\"widget\"][\"text\"][\"onMouseUp\"]"
   ]
  },
  {
   "cell_type": "code",
   "execution_count": 119,
   "id": "b450bdb5",
   "metadata": {},
   "outputs": [],
   "source": [
    "x3={\"web-app\": {\n",
    "  \"servlet\": [   \n",
    "    {\n",
    "      \"servlet-name\": \"cofaxCDS\",\n",
    "      \"servlet-class\": \"org.cofax.cds.CDSServlet\",\n",
    "      \"init-param\": {\n",
    "        \"configGlossary:installationAt\": \"Philadelphia, PA\",\n",
    "        \"configGlossary:adminEmail\": \"ksm@pobox.com\",\n",
    "        \"configGlossary:poweredBy\": \"Cofax\",\n",
    "        \"configGlossary:poweredByIcon\": \"/images/cofax.gif\",\n",
    "        \"configGlossary:staticPath\": \"/content/static\",\n",
    "        \"templateProcessorClass\": \"org.cofax.WysiwygTemplate\",\n",
    "        \"templateLoaderClass\": \"org.cofax.FilesTemplateLoader\",\n",
    "        \"templatePath\": \"templates\",\n",
    "        \"templateOverridePath\": \"\",\n",
    "        \"defaultListTemplate\": \"listTemplate.htm\",\n",
    "        \"defaultFileTemplate\": \"articleTemplate.htm\",\n",
    "        \"useJSP\": \"false\",\n",
    "        \"jspListTemplate\": \"listTemplate.jsp\",\n",
    "        \"jspFileTemplate\": \"articleTemplate.jsp\",\n",
    "        \"cachePackageTagsTrack\": 200,\n",
    "        \"cachePackageTagsStore\": 200,\n",
    "        \"cachePackageTagsRefresh\": 60,\n",
    "        \"cacheTemplatesTrack\": 100,\n",
    "        \"cacheTemplatesStore\": 50,\n",
    "        \"cacheTemplatesRefresh\": 15,\n",
    "        \"cachePagesTrack\": 200,\n",
    "        \"cachePagesStore\": 100,\n",
    "        \"cachePagesRefresh\": 10,\n",
    "        \"cachePagesDirtyRead\": 10,\n",
    "        \"searchEngineListTemplate\": \"forSearchEnginesList.htm\",\n",
    "        \"searchEngineFileTemplate\": \"forSearchEngines.htm\",\n",
    "        \"searchEngineRobotsDb\": \"WEB-INF/robots.db\",\n",
    "        \"useDataStore\": \"true\",\n",
    "        \"dataStoreClass\": \"org.cofax.SqlDataStore\",\n",
    "        \"redirectionClass\": \"org.cofax.SqlRedirection\",\n",
    "        \"dataStoreName\": \"cofax\",\n",
    "        \"dataStoreDriver\": \"com.microsoft.jdbc.sqlserver.SQLServerDriver\",\n",
    "        \"dataStoreUrl\": \"jdbc:microsoft:sqlserver://LOCALHOST:1433;DatabaseName=goon\",\n",
    "        \"dataStoreUser\": \"sa\",\n",
    "        \"dataStorePassword\": \"dataStoreTestQuery\",\n",
    "        \"dataStoreTestQuery\": \"SET NOCOUNT ON;select test='test';\",\n",
    "        \"dataStoreLogFile\": \"/usr/local/tomcat/logs/datastore.log\",\n",
    "        \"dataStoreInitConns\": 10,\n",
    "        \"dataStoreMaxConns\": 100,\n",
    "        \"dataStoreConnUsageLimit\": 100,\n",
    "        \"dataStoreLogLevel\": \"debug\",\n",
    "        \"maxUrlLength\": 500}},\n",
    "    {\n",
    "      \"servlet-name\": \"cofaxEmail\",\n",
    "      \"servlet-class\": \"org.cofax.cds.EmailServlet\",\n",
    "      \"init-param\": {\n",
    "      \"mailHost\": \"mail1\",\n",
    "      \"mailHostOverride\": \"mail2\"}},\n",
    "    {\n",
    "      \"servlet-name\": \"cofaxAdmin\",\n",
    "      \"servlet-class\": \"org.cofax.cds.AdminServlet\"},\n",
    " \n",
    "    {\n",
    "      \"servlet-name\": \"fileServlet\",\n",
    "      \"servlet-class\": \"org.cofax.cds.FileServlet\"},\n",
    "    {\n",
    "      \"servlet-name\": \"cofaxTools\",\n",
    "      \"servlet-class\": \"org.cofax.cms.CofaxToolsServlet\",\n",
    "      \"init-param\": {\n",
    "        \"templatePath\": \"toolstemplates/\",\n",
    "        \"log\": 1,\n",
    "        \"logLocation\": \"/usr/local/tomcat/logs/CofaxTools.log\",\n",
    "        \"logMaxSize\": \"\",\n",
    "        \"dataLog\": 1,\n",
    "        \"dataLogLocation\": \"/usr/local/tomcat/logs/dataLog.log\",\n",
    "        \"dataLogMaxSize\": \"\",\n",
    "        \"removePageCache\": \"/content/admin/remove?cache=pages&id=\",\n",
    "        \"removeTemplateCache\": \"/content/admin/remove?cache=templates&id=\",\n",
    "        \"fileTransferFolder\": \"/usr/local/tomcat/webapps/content/fileTransferFolder\",\n",
    "        \"lookInContext\": 1,\n",
    "        \"adminGroupID\": 4,\n",
    "        \"betaServer\": \"true\"}}],\n",
    "  \"servlet-mapping\": {\n",
    "    \"cofaxCDS\": \"/\",\n",
    "    \"cofaxEmail\": \"/cofaxutil/aemail/*\",\n",
    "    \"cofaxAdmin\": \"/admin/*\",\n",
    "    \"fileServlet\": \"/static/*\",\n",
    "    \"cofaxTools\": \"/tools/*\"},\n",
    " \n",
    "  \"taglib\": {\n",
    "    \"taglib-uri\": \"cofax.tld\",\n",
    "    \"taglib-location\": \"/WEB-INF/tlds/cofax.tld\"}}}"
   ]
  },
  {
   "cell_type": "code",
   "execution_count": 127,
   "id": "6fb7319a",
   "metadata": {},
   "outputs": [
    {
     "data": {
      "text/plain": [
       "'cofaxEmail'"
      ]
     },
     "execution_count": 127,
     "metadata": {},
     "output_type": "execute_result"
    }
   ],
   "source": [
    "x3[\"web-app\"][\"servlet\"][1][\"servlet-name\"]"
   ]
  },
  {
   "cell_type": "code",
   "execution_count": 140,
   "id": "6c83ecdf",
   "metadata": {},
   "outputs": [
    {
     "name": "stdout",
     "output_type": "stream",
     "text": [
      "first number is int\n",
      "last number is float\n"
     ]
    }
   ],
   "source": [
    "l=[1,2,\"jalpa\",5.5]\n",
    "if type(l[0])==int:\n",
    "    print(\"first number is int\")\n",
    "else:\n",
    "    print(\"number is not int\")\n",
    "if type(l[-1])==float:\n",
    "    print(\"last number is float\")\n",
    "else:\n",
    "    print(\"not float\")\n",
    "    \n",
    "    "
   ]
  },
  {
   "cell_type": "code",
   "execution_count": 132,
   "id": "4f7fc2c1",
   "metadata": {},
   "outputs": [
    {
     "data": {
      "text/plain": [
       "[1, 2, 'jalpa', 5.5]"
      ]
     },
     "execution_count": 132,
     "metadata": {},
     "output_type": "execute_result"
    }
   ],
   "source": [
    "l"
   ]
  },
  {
   "cell_type": "code",
   "execution_count": 2,
   "id": "ff09702e",
   "metadata": {},
   "outputs": [
    {
     "name": "stdout",
     "output_type": "stream",
     "text": [
      "enter value of a2\n",
      "enter value of b3\n",
      "enter value of c4\n",
      "c is greater 4\n"
     ]
    }
   ],
   "source": [
    "a=int(input(\"enter value of a\"))\n",
    "b=int(input(\"enter value of b\"))\n",
    "c=int(input(\"enter value of c\"))\n",
    "if a>b:\n",
    "    print(\"a is greater\",a)\n",
    "elif b>c:\n",
    "    print(\"b is greater\",b)\n",
    "elif c>a:\n",
    "    print(\"c is greater\",c)\n",
    "else:\n",
    "    print(\"number are equal\")"
   ]
  },
  {
   "cell_type": "code",
   "execution_count": 8,
   "id": "292ba4d3",
   "metadata": {},
   "outputs": [
    {
     "name": "stdout",
     "output_type": "stream",
     "text": [
      "enter weigth in kg:90\n",
      "enter height in m:1.86\n",
      "ur bmi score is: 26.014568158168572\n",
      "ur over weight\n"
     ]
    }
   ],
   "source": [
    "#bmi\n",
    "weight=float(input(\"enter weigth in kg:\"))\n",
    "height=float(input(\"enter height in m:\"))\n",
    "bmi=weight/height**2\n",
    "print(\"ur bmi score is:\",bmi)\n",
    "\n",
    "if bmi<18:\n",
    "    print(\"ur weak\")\n",
    "elif bmi<24:\n",
    "    print(\"ur healthy\")\n",
    "elif bmi<30:\n",
    "    print(\"ur over weight\")\n",
    "else:\n",
    "    print(\"ur obesed\")"
   ]
  },
  {
   "cell_type": "code",
   "execution_count": 10,
   "id": "37b52bb4",
   "metadata": {},
   "outputs": [],
   "source": [
    "#for and range"
   ]
  },
  {
   "cell_type": "code",
   "execution_count": 11,
   "id": "ec2e25f3",
   "metadata": {},
   "outputs": [
    {
     "data": {
      "text/plain": [
       "range(0, 10)"
      ]
     },
     "execution_count": 11,
     "metadata": {},
     "output_type": "execute_result"
    }
   ],
   "source": [
    "range(0,10)"
   ]
  },
  {
   "cell_type": "code",
   "execution_count": 13,
   "id": "fd86c7ae",
   "metadata": {},
   "outputs": [
    {
     "data": {
      "text/plain": [
       "[0, 1, 2, 3, 4, 5, 6, 7, 8, 9]"
      ]
     },
     "execution_count": 13,
     "metadata": {},
     "output_type": "execute_result"
    }
   ],
   "source": [
    "list(range(0,10))"
   ]
  },
  {
   "cell_type": "code",
   "execution_count": 14,
   "id": "49030f4e",
   "metadata": {},
   "outputs": [
    {
     "data": {
      "text/plain": [
       "[10, 9, 8, 7, 6, 5, 4, 3, 2, 1]"
      ]
     },
     "execution_count": 14,
     "metadata": {},
     "output_type": "execute_result"
    }
   ],
   "source": [
    "list(range(10,0,-1))"
   ]
  },
  {
   "cell_type": "code",
   "execution_count": 15,
   "id": "3729674c",
   "metadata": {},
   "outputs": [],
   "source": [
    "l=[1,2,3,\"xyz\",\"rishab\"]"
   ]
  },
  {
   "cell_type": "code",
   "execution_count": 16,
   "id": "283cefcc",
   "metadata": {},
   "outputs": [
    {
     "name": "stdout",
     "output_type": "stream",
     "text": [
      "1\n",
      "2\n",
      "3\n",
      "xyz\n",
      "rishab\n"
     ]
    }
   ],
   "source": [
    "for i in l:\n",
    "    print(i)"
   ]
  },
  {
   "cell_type": "code",
   "execution_count": 18,
   "id": "d0c8b759",
   "metadata": {},
   "outputs": [
    {
     "name": "stdout",
     "output_type": "stream",
     "text": [
      "0\n",
      "1\n",
      "2\n",
      "3\n",
      "4\n",
      "5\n",
      "6\n",
      "7\n",
      "8\n",
      "9\n"
     ]
    }
   ],
   "source": [
    "for i in range(0,10):\n",
    "    print(i)"
   ]
  },
  {
   "cell_type": "code",
   "execution_count": 19,
   "id": "927c6901",
   "metadata": {},
   "outputs": [
    {
     "name": "stdout",
     "output_type": "stream",
     "text": [
      "10\n",
      "9\n",
      "8\n",
      "7\n",
      "6\n",
      "5\n",
      "4\n",
      "3\n",
      "2\n",
      "1\n"
     ]
    }
   ],
   "source": [
    "for i in range(10,0,-1):\n",
    "    print(i)"
   ]
  },
  {
   "cell_type": "code",
   "execution_count": 21,
   "id": "32b577cb",
   "metadata": {},
   "outputs": [
    {
     "name": "stdout",
     "output_type": "stream",
     "text": [
      "xyz\n",
      "4\n",
      "3\n",
      "2\n",
      "1\n"
     ]
    }
   ],
   "source": [
    "#reverse of list using for loop\n",
    "l=[1,2,3,4,\"xyz\"]\n",
    "for i in l[::-1]:\n",
    "    print(i)\n"
   ]
  },
  {
   "cell_type": "code",
   "execution_count": 22,
   "id": "43d32540",
   "metadata": {},
   "outputs": [
    {
     "name": "stdout",
     "output_type": "stream",
     "text": [
      "b\n",
      "a\n",
      "h\n",
      "s\n",
      "i\n",
      "r\n"
     ]
    }
   ],
   "source": [
    "x=\"rishab\"\n",
    "for i in x[::-1]:\n",
    "    print(i)"
   ]
  },
  {
   "cell_type": "code",
   "execution_count": 35,
   "id": "52c89d2c",
   "metadata": {},
   "outputs": [
    {
     "name": "stdout",
     "output_type": "stream",
     "text": [
      "1\n",
      "2\n",
      "3\n",
      "6\n"
     ]
    }
   ],
   "source": [
    "#fetch int from list using for loop\n",
    "\n",
    "l=[1,2,3,\"xyz\",6+6j,6,[9,8,5]]\n",
    "for i in l:\n",
    "    if type(i) == int:\n",
    "        print(i)"
   ]
  },
  {
   "cell_type": "code",
   "execution_count": null,
   "id": "bf83deb3",
   "metadata": {},
   "outputs": [],
   "source": [
    "#fetch list from the given list"
   ]
  },
  {
   "cell_type": "code",
   "execution_count": 43,
   "id": "fa39d002",
   "metadata": {},
   "outputs": [
    {
     "name": "stdout",
     "output_type": "stream",
     "text": [
      "enter table u need:5\n",
      "5 x 1 = 5\n",
      "5 x 2 = 10\n",
      "5 x 3 = 15\n",
      "5 x 4 = 20\n",
      "5 x 5 = 25\n",
      "5 x 6 = 30\n",
      "5 x 7 = 35\n",
      "5 x 8 = 40\n",
      "5 x 9 = 45\n",
      "5 x 10 = 50\n"
     ]
    }
   ],
   "source": [
    "#table form loop\n",
    "x=int(input(\"enter table u need:\"))\n",
    "for i in range(1,11):\n",
    "    print(x,\"x\",i,\"=\",x*i)\n",
    "    "
   ]
  },
  {
   "cell_type": "code",
   "execution_count": 57,
   "id": "bbd285c1",
   "metadata": {},
   "outputs": [
    {
     "name": "stdout",
     "output_type": "stream",
     "text": [
      "2\n",
      "4\n",
      "6\n",
      "8\n"
     ]
    }
   ],
   "source": [
    "l=[1,2,3,4,5,6,7,8.8,9.9,23,8,9]\n",
    "for i in l:\n",
    "    if i%2==0:\n",
    "        pass\n",
    "        print(i)"
   ]
  },
  {
   "cell_type": "code",
   "execution_count": 46,
   "id": "d6a9d39d",
   "metadata": {},
   "outputs": [],
   "source": [
    "#break break not conuting that value but the value prior to it\n",
    "#continue will not cont the value but cont ahead\n",
    "#pass will count all value"
   ]
  },
  {
   "cell_type": "code",
   "execution_count": 48,
   "id": "4047c419",
   "metadata": {},
   "outputs": [],
   "source": [
    "#LIST IN LIST\n",
    "#COUNT NUMBERS EVEN AND ODD\n",
    "#USING FOR LOOP STRING IS PALENDROM\n",
    "#DUPLICATE VALUE\n",
    "#FIBONACHI SERIES\n",
    "#PRIME NUMBER\n"
   ]
  },
  {
   "cell_type": "code",
   "execution_count": 6,
   "id": "9e2739b6",
   "metadata": {
    "scrolled": true
   },
   "outputs": [
    {
     "name": "stdout",
     "output_type": "stream",
     "text": [
      "[5, 4, 3]\n"
     ]
    }
   ],
   "source": [
    "l=[1,2,3,4,5,[5,4,3]]\n",
    "for i in l:\n",
    "    if type(i)==list:\n",
    "        print(i)\n",
    " "
   ]
  },
  {
   "cell_type": "code",
   "execution_count": 4,
   "id": "d5857932",
   "metadata": {},
   "outputs": [
    {
     "name": "stdout",
     "output_type": "stream",
     "text": [
      "Even numbers in the list:  7\n",
      "Odd numbers in the list:  4\n"
     ]
    }
   ],
   "source": [
    "list1 = [10, 21, 4, 45, 66, 93, 1,2,4,6,8]\n",
    " \n",
    "even_count, odd_count = 0, 0\n",
    " \n",
    "for i in list1:\n",
    "    if i % 2 == 0:\n",
    "        even_count += 1\n",
    " \n",
    "    else:\n",
    "        odd_count += 1\n",
    "print(\"Even numbers in the list: \", even_count)\n",
    "print(\"Odd numbers in the list: \", odd_count)"
   ]
  },
  {
   "cell_type": "code",
   "execution_count": 9,
   "id": "0a1d4c5b",
   "metadata": {},
   "outputs": [
    {
     "name": "stdout",
     "output_type": "stream",
     "text": [
      "Enter any number/word :mom\n"
     ]
    },
    {
     "ename": "TypeError",
     "evalue": "'str' object is not callable",
     "output_type": "error",
     "traceback": [
      "\u001b[1;31m---------------------------------------------------------------------------\u001b[0m",
      "\u001b[1;31mTypeError\u001b[0m                                 Traceback (most recent call last)",
      "Input \u001b[1;32mIn [9]\u001b[0m, in \u001b[0;36m<cell line: 1>\u001b[1;34m()\u001b[0m\n\u001b[1;32m----> 1\u001b[0m s \u001b[38;5;241m=\u001b[39m \u001b[38;5;28;43mstr\u001b[39;49m\u001b[43m(\u001b[49m\u001b[38;5;28;43minput\u001b[39;49m\u001b[43m(\u001b[49m\u001b[38;5;124;43m\"\u001b[39;49m\u001b[38;5;124;43mEnter any number/word :\u001b[39;49m\u001b[38;5;124;43m\"\u001b[39;49m\u001b[43m)\u001b[49m\u001b[43m)\u001b[49m\n\u001b[0;32m      2\u001b[0m \u001b[38;5;28;01mfor\u001b[39;00m i \u001b[38;5;129;01min\u001b[39;00m s:\n\u001b[0;32m      3\u001b[0m     \u001b[38;5;28;01mif\u001b[39;00m s\u001b[38;5;241m==\u001b[39ms[::\u001b[38;5;241m-\u001b[39m\u001b[38;5;241m1\u001b[39m]:\n",
      "\u001b[1;31mTypeError\u001b[0m: 'str' object is not callable"
     ]
    }
   ],
   "source": [
    "s = str(input(\"Enter any number/word :\"))\n",
    "for i in s:\n",
    "    if s==s[::-1]:\n",
    "        print('It is a palindrome')\n",
    "        break\n",
    "else:\n",
    "    print('It is not a palindrome')"
   ]
  },
  {
   "cell_type": "code",
   "execution_count": 23,
   "id": "b289b637",
   "metadata": {},
   "outputs": [
    {
     "name": "stdout",
     "output_type": "stream",
     "text": [
      "enter string:kanak\n",
      "it is\n"
     ]
    }
   ],
   "source": [
    "s = input(\"enter string:\")\n",
    "for i in range(0,int(len(s)/2)):\n",
    "    if s[i] != s[len(s)-i-1]:\n",
    "        print(\"its not palindrome\")\n",
    "        break\n",
    "    else:\n",
    "        print(\"it is\")\n",
    "        break"
   ]
  },
  {
   "cell_type": "code",
   "execution_count": 45,
   "id": "e77166f6",
   "metadata": {},
   "outputs": [
    {
     "name": "stdout",
     "output_type": "stream",
     "text": [
      "enter the number9\n",
      "not prime\n"
     ]
    }
   ],
   "source": [
    "s=int(input(\"enter the number\"))\n",
    "if s>1:\n",
    "    for i in range(2,int(s/2)+1):\n",
    "        if s%i==0:\n",
    "            print(\"not prime\")\n",
    "            break\n",
    "    else: \n",
    "            print(\"prime\")\n",
    "    \n",
    "            \n",
    "    "
   ]
  },
  {
   "cell_type": "code",
   "execution_count": 5,
   "id": "bc7d5561",
   "metadata": {},
   "outputs": [
    {
     "name": "stdout",
     "output_type": "stream",
     "text": [
      "enter limit:6\n",
      "0\n",
      "1\n",
      "1\n",
      "2\n",
      "3\n",
      "5\n"
     ]
    }
   ],
   "source": [
    "#fibonachi\n",
    "n=int(input(\"enter limit:\"))\n",
    "a=0\n",
    "b=1\n",
    "print(a)\n",
    "print(b)\n",
    "for i in range(2,n):\n",
    "    c=a+b\n",
    "    a=b\n",
    "    b=c\n",
    "    print(c)\n"
   ]
  },
  {
   "cell_type": "code",
   "execution_count": 8,
   "id": "a8969102",
   "metadata": {},
   "outputs": [
    {
     "name": "stdout",
     "output_type": "stream",
     "text": [
      "enter the number for n: 5\n",
      "* \n",
      "\n",
      "* * \n",
      "\n",
      "* * * \n",
      "\n",
      "* * * * \n",
      "\n",
      "* * * * * \n",
      "\n"
     ]
    }
   ],
   "source": [
    "#star formations for concept\n",
    "n=int(input(\"enter the number for n: \"))\n",
    "for i in range(0,n):\n",
    "    for j in range(0,i+1):\n",
    "        print(\"*\", end=\" \")\n",
    "    print(\"\\n\")\n"
   ]
  },
  {
   "cell_type": "code",
   "execution_count": 10,
   "id": "afb64b05",
   "metadata": {},
   "outputs": [
    {
     "name": "stdout",
     "output_type": "stream",
     "text": [
      "enter the number for n:6\n",
      "\n",
      "\n",
      "1 \n",
      "\n",
      "1 2 \n",
      "\n",
      "1 2 3 \n",
      "\n",
      "1 2 3 4 \n",
      "\n",
      "1 2 3 4 5 \n",
      "\n"
     ]
    }
   ],
   "source": [
    "n=int(input(\"enter the number for n:\"))\n",
    "for i in range(0,n):\n",
    "    for j in range (1,i+1):\n",
    "        print(j,end=\" \")\n",
    "    print(\"\\n\")\n",
    "    "
   ]
  },
  {
   "cell_type": "code",
   "execution_count": 15,
   "id": "4b195ad1",
   "metadata": {},
   "outputs": [
    {
     "name": "stdout",
     "output_type": "stream",
     "text": [
      "enter the length5\n",
      " *   *   *   *   *  \n",
      "\n",
      " *   *   *   *   *  \n",
      "\n",
      " *   *   *   *   *  \n",
      "\n",
      " *   *   *   *   *  \n",
      "\n",
      " *   *   *   *   *  \n",
      "\n"
     ]
    }
   ],
   "source": [
    "n = int(input(\"enter the length\"))\n",
    "for i in range(0,n):\n",
    "    for j in range(0,n):\n",
    "        print(\" * \",end = \" \")\n",
    "    print(\"\\n\")"
   ]
  },
  {
   "cell_type": "code",
   "execution_count": 16,
   "id": "5c4a8f9f",
   "metadata": {},
   "outputs": [],
   "source": [
    "#to call capital a we use ascii table eg: A= chr(65)"
   ]
  },
  {
   "cell_type": "code",
   "execution_count": 23,
   "id": "daaa7589",
   "metadata": {},
   "outputs": [
    {
     "name": "stdout",
     "output_type": "stream",
     "text": [
      "enter the number5\n",
      "A \n",
      "\n",
      "A B \n",
      "\n",
      "A B C \n",
      "\n",
      "A B C D \n",
      "\n"
     ]
    }
   ],
   "source": [
    "n=int(input(\"enter the number\"))\n",
    "for i in range(1,n):\n",
    "    for j in range(65,65+i):\n",
    "        print(chr(j),end=\" \")\n",
    "    print(\"\\n\")\n",
    "    "
   ]
  },
  {
   "cell_type": "code",
   "execution_count": 28,
   "id": "c39c716c",
   "metadata": {},
   "outputs": [
    {
     "name": "stdout",
     "output_type": "stream",
     "text": [
      "enter the rows6\n",
      "A \n",
      "\n",
      "B B \n",
      "\n",
      "C C C \n",
      "\n",
      "D D D D \n",
      "\n",
      "E E E E E \n",
      "\n",
      "F F F F F F \n",
      "\n"
     ]
    }
   ],
   "source": [
    "n=int(input(\"enter the rows\"))\n",
    "ascii_val=65\n",
    "for i in range(n):\n",
    "    for j in range(i+1):\n",
    "        print(chr(ascii_val),end=\" \")\n",
    "    ascii_val+=1\n",
    "    print(\"\\n\")"
   ]
  },
  {
   "cell_type": "code",
   "execution_count": 35,
   "id": "4be9296a",
   "metadata": {},
   "outputs": [
    {
     "name": "stdout",
     "output_type": "stream",
     "text": [
      "enter the number for n: 5\n",
      "* * * * * \n",
      "\n",
      "* * * * \n",
      "\n",
      "* * * \n",
      "\n",
      "* * \n",
      "\n",
      "* \n",
      "\n"
     ]
    }
   ],
   "source": [
    "#star formations for concept\n",
    "n=int(input(\"enter the number for n: \"))\n",
    "for i in range(n,0,-1):\n",
    "    for j in range(0,i):\n",
    "        print(\"*\", end=\" \")\n",
    "    print(\"\\n\")\n"
   ]
  },
  {
   "cell_type": "code",
   "execution_count": 38,
   "id": "e152c8bc",
   "metadata": {},
   "outputs": [
    {
     "name": "stdout",
     "output_type": "stream",
     "text": [
      "enter the number5\n",
      "    * \n",
      "\n",
      "   * * \n",
      "\n",
      "  * * * \n",
      "\n",
      " * * * * \n",
      "\n",
      "* * * * * \n",
      "\n"
     ]
    }
   ],
   "source": [
    "n=int(input(\"enter the number\"))\n",
    "k=n-1\n",
    "for i in range(0,n):\n",
    "    for j in range(0,k):\n",
    "        print(end=\" \")\n",
    "    k=k-1\n",
    "    for j in range(0,i+1):\n",
    "        print(\"* \",end=\"\")\n",
    "    print(\"\\n\")\n",
    "        "
   ]
  },
  {
   "cell_type": "code",
   "execution_count": 39,
   "id": "77c1e19b",
   "metadata": {},
   "outputs": [],
   "source": [
    "#square,initail"
   ]
  },
  {
   "cell_type": "code",
   "execution_count": 40,
   "id": "bd28d90d",
   "metadata": {},
   "outputs": [
    {
     "name": "stdout",
     "output_type": "stream",
     "text": [
      "* * * * * \n",
      "*       * \n",
      "*       * \n",
      "*       * \n",
      "* * * * * \n"
     ]
    }
   ],
   "source": [
    "for raw in range(5):\n",
    "    for col in range(5):\n",
    "        if raw in (0,4):\n",
    "            print(\"*\",end=\" \")\n",
    "        elif raw in (1,2,3,4) and col in (0,4):\n",
    "            print(\"*\",end=\" \")\n",
    "        else:\n",
    "            print(\" \",end=\" \")\n",
    "    print()"
   ]
  },
  {
   "cell_type": "code",
   "execution_count": 41,
   "id": "1c356a36",
   "metadata": {},
   "outputs": [
    {
     "name": "stdout",
     "output_type": "stream",
     "text": [
      "* * * * * \n",
      "*       * \n",
      "*   R   * \n",
      "*       * \n",
      "* * * * * \n"
     ]
    }
   ],
   "source": [
    "for raw in range(5):\n",
    "    for col in range(5):\n",
    "        if raw in (0,4):\n",
    "            print(\"*\",end=\" \")\n",
    "        elif raw in (1,2,3,4) and col in (0,4):\n",
    "            print(\"*\",end=\" \")\n",
    "        elif raw in (0,2) and col in(0,2):\n",
    "            print(\"R\",end=\" \")\n",
    "        else:\n",
    "            print(\" \",end=\" \")\n",
    "    print()"
   ]
  },
  {
   "cell_type": "code",
   "execution_count": 42,
   "id": "1a201d25",
   "metadata": {},
   "outputs": [],
   "source": [
    "##while loop- "
   ]
  },
  {
   "cell_type": "code",
   "execution_count": 47,
   "id": "d24f08a1",
   "metadata": {},
   "outputs": [
    {
     "name": "stdout",
     "output_type": "stream",
     "text": [
      "enter number:4\n",
      "4\n",
      "5\n",
      "6\n"
     ]
    }
   ],
   "source": [
    "a=int(input(\"enter number:\"))\n",
    "while a<=6:\n",
    "    print(a)\n",
    "    a=a+1"
   ]
  },
  {
   "cell_type": "code",
   "execution_count": 49,
   "id": "17a31247",
   "metadata": {},
   "outputs": [
    {
     "name": "stdout",
     "output_type": "stream",
     "text": [
      "1\n",
      "2\n",
      "3\n",
      "4\n",
      "5\n",
      "6\n",
      "7\n",
      "8\n",
      "9\n",
      "10\n"
     ]
    }
   ],
   "source": [
    "a=1\n",
    "while a<=10:\n",
    "    print(a)\n",
    "    if a==10:\n",
    "        break\n",
    "    a=a+1"
   ]
  },
  {
   "cell_type": "code",
   "execution_count": 52,
   "id": "262fb3e4",
   "metadata": {},
   "outputs": [
    {
     "name": "stdout",
     "output_type": "stream",
     "text": [
      "10\n",
      "9\n",
      "8\n",
      "7\n",
      "6\n",
      "5\n",
      "4\n",
      "3\n",
      "2\n",
      "1\n"
     ]
    }
   ],
   "source": [
    "a=10\n",
    "while a<=10:\n",
    "    print(a)\n",
    "    if a==1:\n",
    "        break\n",
    "    a=a-1"
   ]
  },
  {
   "cell_type": "code",
   "execution_count": 51,
   "id": "647ad26f",
   "metadata": {},
   "outputs": [
    {
     "name": "stdout",
     "output_type": "stream",
     "text": [
      "10\n",
      "9\n",
      "8\n",
      "7\n",
      "6\n",
      "5\n",
      "4\n",
      "3\n",
      "2\n",
      "1\n"
     ]
    }
   ],
   "source": [
    "a=10\n",
    "while a>0:\n",
    "    print(a)\n",
    "    a=a-1"
   ]
  },
  {
   "cell_type": "code",
   "execution_count": 56,
   "id": "bbbdaf58",
   "metadata": {},
   "outputs": [
    {
     "name": "stdout",
     "output_type": "stream",
     "text": [
      "enter:4\n",
      "enter -ve value to exit:5\n",
      "enter -ve value to exit:6\n",
      "enter -ve value to exit:-1\n"
     ]
    }
   ],
   "source": [
    "a = int(input(\"enter:\"))\n",
    "while a>0:\n",
    "    a=int(input(\"enter -ve value to exit:\"))"
   ]
  },
  {
   "cell_type": "code",
   "execution_count": 60,
   "id": "738bb87f",
   "metadata": {},
   "outputs": [
    {
     "name": "stdout",
     "output_type": "stream",
     "text": [
      "enter:4\n"
     ]
    }
   ],
   "source": [
    "##if str then exit or int continue to ask"
   ]
  },
  {
   "cell_type": "code",
   "execution_count": 1,
   "id": "a757d68c",
   "metadata": {},
   "outputs": [
    {
     "name": "stdout",
     "output_type": "stream",
     "text": [
      "enter the number:5\n",
      "sum of  5 natural number is: 15\n"
     ]
    }
   ],
   "source": [
    "#sum of natural number using while loop\n",
    "num=int(input(\"enter the number:\"))\n",
    "sum=0\n",
    "hold=num\n",
    "if num <= 0:\n",
    "    print(\"enter a whole number\")\n",
    "else:\n",
    "    while num > 0:\n",
    "        sum=sum+num\n",
    "        num=num-1\n",
    "    print(\"sum of \",hold,\"natural number is:\",sum)"
   ]
  },
  {
   "cell_type": "code",
   "execution_count": 2,
   "id": "f5d0dd2b",
   "metadata": {},
   "outputs": [],
   "source": [
    "#level till 5"
   ]
  },
  {
   "cell_type": "code",
   "execution_count": 1,
   "id": "3d62e4cc",
   "metadata": {},
   "outputs": [
    {
     "name": "stdout",
     "output_type": "stream",
     "text": [
      "insdie loop\n",
      "insdie loop\n",
      "insdie loop\n",
      "loop end\n"
     ]
    }
   ],
   "source": [
    "#while with else\n",
    "counter=0\n",
    "while counter<3:\n",
    "    print(\"insdie loop\")\n",
    "    counter=counter+1\n",
    "else:\n",
    "    print(\"loop end\")"
   ]
  },
  {
   "cell_type": "code",
   "execution_count": 2,
   "id": "d0e77812",
   "metadata": {},
   "outputs": [],
   "source": [
    "##functions"
   ]
  },
  {
   "cell_type": "code",
   "execution_count": 9,
   "id": "e908a479",
   "metadata": {},
   "outputs": [
    {
     "name": "stdout",
     "output_type": "stream",
     "text": [
      "value of a4\n",
      "value of b5\n",
      "9\n"
     ]
    }
   ],
   "source": [
    "def test1():\n",
    "##doc string\n",
    "    \"\"\"function to use addition of the number\"\"\"\n",
    "    c=a+b\n",
    "    print(c)\n",
    "a=int(input(\"value of a\"))\n",
    "b=int(input(\"value of b\"))\n",
    "test1()"
   ]
  },
  {
   "cell_type": "code",
   "execution_count": 7,
   "id": "0fbbfab2",
   "metadata": {},
   "outputs": [
    {
     "name": "stdout",
     "output_type": "stream",
     "text": [
      "9\n"
     ]
    }
   ],
   "source": [
    "test1()"
   ]
  },
  {
   "cell_type": "code",
   "execution_count": 10,
   "id": "e7342a9e",
   "metadata": {},
   "outputs": [],
   "source": [
    "##return is same as print but returns the value "
   ]
  },
  {
   "cell_type": "code",
   "execution_count": 14,
   "id": "f7b478d2",
   "metadata": {},
   "outputs": [
    {
     "name": "stdout",
     "output_type": "stream",
     "text": [
      "enter weigth in kg:56\n",
      "enter height in m:2.2\n"
     ]
    },
    {
     "data": {
      "text/plain": [
       "11.570247933884296"
      ]
     },
     "execution_count": 14,
     "metadata": {},
     "output_type": "execute_result"
    }
   ],
   "source": [
    "def bmi1(weight,height):\n",
    "    \"\"\"to calculate bmi\"\"\"\n",
    "    bmi=weight/height**2\n",
    "    return bmi\n",
    "\n",
    "weight=float(input(\"enter weigth in kg:\"))\n",
    "height=float(input(\"enter height in m:\"))\n",
    "bmi1(weight,height)"
   ]
  },
  {
   "cell_type": "code",
   "execution_count": 16,
   "id": "dbe4f1cb",
   "metadata": {},
   "outputs": [
    {
     "name": "stdout",
     "output_type": "stream",
     "text": [
      "u have bike {True}\n",
      "u have car {True}\n",
      "u can travel 100 km {True}\n",
      "u have bike {True}\n",
      "u have car {False}\n",
      "u can travel 100 km {True}\n",
      "u have bike {False}\n",
      "u have car {True}\n",
      "u can travel 100 km {True}\n",
      "u have bike {False}\n",
      "u have car {False}\n",
      "u can travel 100 km {False}\n"
     ]
    }
   ],
   "source": [
    "bike=True\n",
    "car=True\n",
    "travel100km=bike or car\n",
    "print(\"u have bike\",{bike})\n",
    "print('u have car',{car})\n",
    "print('u can travel 100 km',{travel100km})\n",
    "bike=True\n",
    "car=False\n",
    "travel100km=bike or car\n",
    "print(\"u have bike\",{bike})\n",
    "print('u have car',{car})\n",
    "print('u can travel 100 km',{travel100km})\n",
    "bike=False\n",
    "car=True\n",
    "travel100km=bike or car\n",
    "print(\"u have bike\",{bike})\n",
    "print('u have car',{car})\n",
    "print('u can travel 100 km',{travel100km})\n",
    "bike=False\n",
    "car=False\n",
    "travel100km=bike or car\n",
    "print(\"u have bike\",{bike})\n",
    "print('u have car',{car})\n",
    "print('u can travel 100 km',{travel100km})"
   ]
  },
  {
   "cell_type": "code",
   "execution_count": 17,
   "id": "b2340ab8",
   "metadata": {},
   "outputs": [
    {
     "name": "stdout",
     "output_type": "stream",
     "text": [
      "u have bike {True}\n",
      "u have car {True}\n",
      "u can travel 100 km {True}\n",
      "u have bike {True}\n",
      "u have car {False}\n",
      "u can travel 100 km {True}\n",
      "u have bike {False}\n",
      "u have car {True}\n",
      "u can travel 100 km {True}\n",
      "u have bike {False}\n",
      "u have car {False}\n",
      "u can travel 100 km {False}\n"
     ]
    }
   ],
   "source": [
    "##using funtions\n",
    "def travel_or_not(bike,car):\n",
    "    travel100km=bike or car\n",
    "    print(\"u have bike\",{bike})\n",
    "    print('u have car',{car})\n",
    "    print('u can travel 100 km',{travel100km})\n",
    "travel_or_not(True,True)\n",
    "travel_or_not(True,False)\n",
    "travel_or_not(False,True)\n",
    "travel_or_not(False,False)\n",
    "    "
   ]
  },
  {
   "cell_type": "code",
   "execution_count": 21,
   "id": "e7b4c873",
   "metadata": {},
   "outputs": [
    {
     "ename": "NameError",
     "evalue": "name 'Bike' is not defined",
     "output_type": "error",
     "traceback": [
      "\u001b[1;31m---------------------------------------------------------------------------\u001b[0m",
      "\u001b[1;31mNameError\u001b[0m                                 Traceback (most recent call last)",
      "Input \u001b[1;32mIn [21]\u001b[0m, in \u001b[0;36m<cell line: 8>\u001b[1;34m()\u001b[0m\n\u001b[0;32m      6\u001b[0m bike\u001b[38;5;241m=\u001b[39m[\u001b[38;5;28;01mFalse\u001b[39;00m,\u001b[38;5;28;01mFalse\u001b[39;00m,\u001b[38;5;28;01mTrue\u001b[39;00m,\u001b[38;5;28;01mTrue\u001b[39;00m]\n\u001b[0;32m      7\u001b[0m car\u001b[38;5;241m=\u001b[39m[\u001b[38;5;28;01mFalse\u001b[39;00m,\u001b[38;5;28;01mTrue\u001b[39;00m,\u001b[38;5;28;01mFalse\u001b[39;00m,\u001b[38;5;28;01mTrue\u001b[39;00m]\n\u001b[1;32m----> 8\u001b[0m \u001b[38;5;28;01mfor\u001b[39;00m bike,car \u001b[38;5;129;01min\u001b[39;00m \u001b[38;5;28mzip\u001b[39m(\u001b[43mBike\u001b[49m,Car):\n\u001b[0;32m      9\u001b[0m     travel_or_not(bike,car)\n",
      "\u001b[1;31mNameError\u001b[0m: name 'Bike' is not defined"
     ]
    }
   ],
   "source": [
    "def travel_or_not(Bike,Car):\n",
    "    travel100km =Bike or Car\n",
    "    print(f\"u have bike{Bike}\")\n",
    "    print(f\"u have car{Car}\")\n",
    "    print(f\"u can travell 100 km{travel100km}\\n\")\n",
    "bike=[False,False,True,True]\n",
    "car=[False,True,False,True]\n",
    "for bike,car in zip(Bike,Car):\n",
    "    travel_or_not(bike,car)"
   ]
  },
  {
   "cell_type": "code",
   "execution_count": 24,
   "id": "aef209cb",
   "metadata": {},
   "outputs": [
    {
     "name": "stdout",
     "output_type": "stream",
     "text": [
      "u have bike:True\n",
      "u have car:False\n",
      "u can travell 100 km:True\n",
      "\n"
     ]
    }
   ],
   "source": [
    "def travel_or_not(BIKE=True,CAR=False):\n",
    "    Travelornot=BIKE or CAR\n",
    "    print(f\"u have bike:{BIKE}\")\n",
    "    print(f\"u have car:{CAR}\")\n",
    "    print(f\"u can travell 100 km:{Travelornot}\\n\")\n",
    "travel_or_not()\n",
    "    "
   ]
  },
  {
   "cell_type": "code",
   "execution_count": 25,
   "id": "7ee83fe0",
   "metadata": {},
   "outputs": [
    {
     "name": "stdout",
     "output_type": "stream",
     "text": [
      "u have bike:False\n",
      "u have car:False\n",
      "u can travell 100 km:False\n",
      "\n"
     ]
    }
   ],
   "source": [
    "def travel_or_not(BIKE=True,CAR=False):\n",
    "    Travelornot=BIKE or CAR\n",
    "    print(f\"u have bike:{BIKE}\")\n",
    "    print(f\"u have car:{CAR}\")\n",
    "    print(f\"u can travell 100 km:{Travelornot}\\n\")\n",
    "travel_or_not(False,False)"
   ]
  },
  {
   "cell_type": "code",
   "execution_count": 4,
   "id": "32afa191",
   "metadata": {},
   "outputs": [
    {
     "name": "stdout",
     "output_type": "stream",
     "text": [
      "enter weigth in kg:96\n",
      "enter height in m:1.86\n",
      "ur over weight\n"
     ]
    },
    {
     "data": {
      "text/plain": [
       "27.748872702046476"
      ]
     },
     "execution_count": 4,
     "metadata": {},
     "output_type": "execute_result"
    }
   ],
   "source": [
    "def bmi1(weight,height):\n",
    "    \"\"\"to calculate bmi\"\"\"\n",
    "    bmi=weight/height**2\n",
    "    if bmi<18:\n",
    "        print(\"ur weak\")\n",
    "    elif bmi<24:\n",
    "        print(\"ur healthy\")\n",
    "    elif bmi<30:\n",
    "        print(\"ur over weight\")\n",
    "    else:\n",
    "        print(\"ur obesed\")\n",
    "    return bmi\n",
    "\n",
    "weight=float(input(\"enter weigth in kg:\"))\n",
    "height=float(input(\"enter height in m:\"))\n",
    "bmi1(weight,height)"
   ]
  },
  {
   "cell_type": "code",
   "execution_count": 5,
   "id": "51fb728a",
   "metadata": {},
   "outputs": [],
   "source": [
    "##arguments def by \"*\""
   ]
  },
  {
   "cell_type": "code",
   "execution_count": 6,
   "id": "6a0f4314",
   "metadata": {},
   "outputs": [
    {
     "data": {
      "text/plain": [
       "(78, 79, 80, 81)"
      ]
     },
     "execution_count": 6,
     "metadata": {},
     "output_type": "execute_result"
    }
   ],
   "source": [
    "def test(*a):\n",
    "    return a\n",
    "test(78,79,80,81)"
   ]
  },
  {
   "cell_type": "code",
   "execution_count": 7,
   "id": "2517c03e",
   "metadata": {},
   "outputs": [
    {
     "ename": "TypeError",
     "evalue": "test() missing 1 required keyword-only argument: 'b'",
     "output_type": "error",
     "traceback": [
      "\u001b[1;31m---------------------------------------------------------------------------\u001b[0m",
      "\u001b[1;31mTypeError\u001b[0m                                 Traceback (most recent call last)",
      "Input \u001b[1;32mIn [7]\u001b[0m, in \u001b[0;36m<cell line: 3>\u001b[1;34m()\u001b[0m\n\u001b[0;32m      1\u001b[0m \u001b[38;5;28;01mdef\u001b[39;00m \u001b[38;5;21mtest\u001b[39m(\u001b[38;5;241m*\u001b[39ma,b):\n\u001b[0;32m      2\u001b[0m     \u001b[38;5;28;01mreturn\u001b[39;00m a,b\n\u001b[1;32m----> 3\u001b[0m \u001b[43mtest\u001b[49m\u001b[43m(\u001b[49m\u001b[38;5;241;43m78\u001b[39;49m\u001b[43m,\u001b[49m\u001b[38;5;241;43m80\u001b[39;49m\u001b[43m,\u001b[49m\u001b[38;5;241;43m81\u001b[39;49m\u001b[43m)\u001b[49m\n",
      "\u001b[1;31mTypeError\u001b[0m: test() missing 1 required keyword-only argument: 'b'"
     ]
    }
   ],
   "source": [
    "def test(*a,b):\n",
    "    return a,b\n",
    "test(78,80,81)"
   ]
  },
  {
   "cell_type": "code",
   "execution_count": 8,
   "id": "b1ffae6a",
   "metadata": {},
   "outputs": [
    {
     "data": {
      "text/plain": [
       "(78, (79, 80, 81))"
      ]
     },
     "execution_count": 8,
     "metadata": {},
     "output_type": "execute_result"
    }
   ],
   "source": [
    "def test(a,*b):\n",
    "    return a,b\n",
    "test(78,79,80,81)"
   ]
  },
  {
   "cell_type": "code",
   "execution_count": 9,
   "id": "5ce2fb78",
   "metadata": {},
   "outputs": [
    {
     "ename": "SyntaxError",
     "evalue": "invalid syntax (1999546012.py, line 1)",
     "output_type": "error",
     "traceback": [
      "\u001b[1;36m  Input \u001b[1;32mIn [9]\u001b[1;36m\u001b[0m\n\u001b[1;33m    def test(*a,*b):\u001b[0m\n\u001b[1;37m                ^\u001b[0m\n\u001b[1;31mSyntaxError\u001b[0m\u001b[1;31m:\u001b[0m invalid syntax\n"
     ]
    }
   ],
   "source": [
    "def test(*a,*b):\n",
    "    return a,b\n",
    "test(78,79,80,81)"
   ]
  },
  {
   "cell_type": "code",
   "execution_count": 10,
   "id": "4e32b04a",
   "metadata": {},
   "outputs": [],
   "source": [
    "#thus only can be applicable for one variable not multiple,,, and would take the vale that is mentioned."
   ]
  },
  {
   "cell_type": "code",
   "execution_count": 13,
   "id": "5ecab6bc",
   "metadata": {},
   "outputs": [
    {
     "data": {
      "text/plain": [
       "{'x': 'rishab', 'y': 2, 'z': 'saini'}"
      ]
     },
     "execution_count": 13,
     "metadata": {},
     "output_type": "execute_result"
    }
   ],
   "source": [
    "##key argumet \n",
    "def test(**a):\n",
    "    return a\n",
    "test(x=\"rishab\",y=2,z=\"saini\")"
   ]
  },
  {
   "cell_type": "code",
   "execution_count": 25,
   "id": "52b4c4cc",
   "metadata": {},
   "outputs": [
    {
     "data": {
      "text/plain": [
       "(13, (4, 5), {'x': 'rishab'})"
      ]
     },
     "execution_count": 25,
     "metadata": {},
     "output_type": "execute_result"
    }
   ],
   "source": [
    "def test(a=10,*b,**c):\n",
    "    return a,b,c\n",
    "test(13,4,5,x=\"rishab\")"
   ]
  },
  {
   "cell_type": "code",
   "execution_count": 23,
   "id": "8bc92ac9",
   "metadata": {},
   "outputs": [
    {
     "name": "stdout",
     "output_type": "stream",
     "text": [
      "score in sci=70\n",
      "score in maths=90\n"
     ]
    }
   ],
   "source": [
    "def marks(**kwrd):\n",
    "    for subject,mark in kwrd.items():\n",
    "        print(f\"score in {subject}={mark}\")\n",
    "marks(sci=70,maths=90)"
   ]
  },
  {
   "cell_type": "code",
   "execution_count": 26,
   "id": "754bfb30",
   "metadata": {},
   "outputs": [],
   "source": [
    "##lambda function\n",
    "x=lambda a,b:a+b"
   ]
  },
  {
   "cell_type": "code",
   "execution_count": 27,
   "id": "3cf671f6",
   "metadata": {},
   "outputs": [
    {
     "data": {
      "text/plain": [
       "10"
      ]
     },
     "execution_count": 27,
     "metadata": {},
     "output_type": "execute_result"
    }
   ],
   "source": [
    "x(5,5)"
   ]
  },
  {
   "cell_type": "code",
   "execution_count": 28,
   "id": "b1e4d2c5",
   "metadata": {},
   "outputs": [],
   "source": [
    "#even and odd with lambda functions\n",
    "x=lambda a:a%2==0"
   ]
  },
  {
   "cell_type": "code",
   "execution_count": 29,
   "id": "1e71d7c5",
   "metadata": {},
   "outputs": [
    {
     "data": {
      "text/plain": [
       "True"
      ]
     },
     "execution_count": 29,
     "metadata": {},
     "output_type": "execute_result"
    }
   ],
   "source": [
    "x(4)"
   ]
  },
  {
   "cell_type": "code",
   "execution_count": 30,
   "id": "4adb62cd",
   "metadata": {},
   "outputs": [
    {
     "data": {
      "text/plain": [
       "False"
      ]
     },
     "execution_count": 30,
     "metadata": {},
     "output_type": "execute_result"
    }
   ],
   "source": [
    "x(5)"
   ]
  },
  {
   "cell_type": "code",
   "execution_count": 33,
   "id": "50a0a073",
   "metadata": {},
   "outputs": [],
   "source": [
    "x=lambda a,b:(a+b,a-b,a*b,a/b)"
   ]
  },
  {
   "cell_type": "code",
   "execution_count": 34,
   "id": "05acbe3d",
   "metadata": {},
   "outputs": [
    {
     "data": {
      "text/plain": [
       "(10, -2, 24, 0.6666666666666666)"
      ]
     },
     "execution_count": 34,
     "metadata": {},
     "output_type": "execute_result"
    }
   ],
   "source": [
    "x(4,6)"
   ]
  },
  {
   "cell_type": "code",
   "execution_count": 35,
   "id": "90c42bda",
   "metadata": {},
   "outputs": [
    {
     "name": "stdout",
     "output_type": "stream",
     "text": [
      "\n",
      "result:\n",
      "you can travel 100 km:True\n",
      "\n"
     ]
    }
   ],
   "source": [
    "bike=True\n",
    "car=False\n",
    "result=lambda bike,car:f\"you can travel 100 km:{bike or car}\\n\"\n",
    "print(f'\\nresult:\\n{result(bike,car)}')\n"
   ]
  },
  {
   "cell_type": "code",
   "execution_count": 36,
   "id": "07dc5fdb",
   "metadata": {},
   "outputs": [],
   "source": [
    "x=lambda a,b:a**b"
   ]
  },
  {
   "cell_type": "code",
   "execution_count": 37,
   "id": "95fc5e77",
   "metadata": {},
   "outputs": [
    {
     "data": {
      "text/plain": [
       "8"
      ]
     },
     "execution_count": 37,
     "metadata": {},
     "output_type": "execute_result"
    }
   ],
   "source": [
    "x(2,3)"
   ]
  },
  {
   "cell_type": "code",
   "execution_count": 49,
   "id": "654efeaf",
   "metadata": {},
   "outputs": [
    {
     "data": {
      "text/plain": [
       "'r'"
      ]
     },
     "execution_count": 49,
     "metadata": {},
     "output_type": "execute_result"
    }
   ],
   "source": [
    "l=['rishab','monil']\n",
    "x=lambda l:l[0][0]\n",
    "x(l)"
   ]
  },
  {
   "cell_type": "markdown",
   "id": "ff3dc306",
   "metadata": {},
   "source": [
    "# map(funtion,iterable)"
   ]
  },
  {
   "cell_type": "code",
   "execution_count": 54,
   "id": "034b7100",
   "metadata": {},
   "outputs": [
    {
     "data": {
      "text/plain": [
       "['r', 'm', 'j']"
      ]
     },
     "execution_count": 54,
     "metadata": {},
     "output_type": "execute_result"
    }
   ],
   "source": [
    "def text(x):\n",
    "    return x[0][0]\n",
    "list(map(text,[\"rishab\",\"monil\",'jalpa']))\n"
   ]
  },
  {
   "cell_type": "code",
   "execution_count": 57,
   "id": "1c4a6e97",
   "metadata": {},
   "outputs": [
    {
     "data": {
      "text/plain": [
       "[1, 4, 27, 256]"
      ]
     },
     "execution_count": 57,
     "metadata": {},
     "output_type": "execute_result"
    }
   ],
   "source": [
    "def test(x):\n",
    "    return x**x\n",
    "list(map(test,[1,2,3,4]))"
   ]
  },
  {
   "cell_type": "code",
   "execution_count": 62,
   "id": "9753b1a3",
   "metadata": {},
   "outputs": [
    {
     "data": {
      "text/plain": [
       "['even', 'j', 'm']"
      ]
     },
     "execution_count": 62,
     "metadata": {},
     "output_type": "execute_result"
    }
   ],
   "source": [
    "def inspect(x):\n",
    "    if len(x)%2==0:\n",
    "        return 'even'\n",
    "    else:\n",
    "        return x[0]\n",
    "x=[\"rishab\",'jalpa','monil']\n",
    "list(map(inspect,x))"
   ]
  },
  {
   "cell_type": "markdown",
   "id": "f3e331cf",
   "metadata": {},
   "source": [
    "# FILTER_____ filter(fun.name,iterable)"
   ]
  },
  {
   "cell_type": "code",
   "execution_count": 66,
   "id": "515dc09b",
   "metadata": {},
   "outputs": [
    {
     "data": {
      "text/plain": [
       "[2, 4, 6, 8, 10]"
      ]
     },
     "execution_count": 66,
     "metadata": {},
     "output_type": "execute_result"
    }
   ],
   "source": [
    "def test(x):\n",
    "    return x%2==0\n",
    "list(filter(test,[1,2,3,4,5,6,7,8,10]))"
   ]
  },
  {
   "cell_type": "code",
   "execution_count": 70,
   "id": "046b1666",
   "metadata": {},
   "outputs": [
    {
     "data": {
      "text/plain": [
       "['EVEN', 'm', 'EVEN']"
      ]
     },
     "execution_count": 70,
     "metadata": {},
     "output_type": "execute_result"
    }
   ],
   "source": [
    "list(map(lambda x:\"EVEN\" if len(x)%2==0 else x[0],['rishab','monil','simran']))"
   ]
  },
  {
   "cell_type": "code",
   "execution_count": 6,
   "id": "01bd0b67",
   "metadata": {},
   "outputs": [
    {
     "name": "stdout",
     "output_type": "stream",
     "text": [
      "enter name:rishab\n",
      "vowels are ['i', 'a']\n"
     ]
    }
   ],
   "source": [
    "x=(input(\"enter name:\"))\n",
    "vowel=list(filter(lambda z: z in 'aeiou',x))\n",
    "if len(vowel)==0:\n",
    "    print(\"no vowel in name\")\n",
    "else:\n",
    "    print(\"vowels are\",vowel)"
   ]
  },
  {
   "cell_type": "code",
   "execution_count": 8,
   "id": "71f51b93",
   "metadata": {},
   "outputs": [
    {
     "data": {
      "text/plain": [
       "[5, 6, 7]"
      ]
     },
     "execution_count": 8,
     "metadata": {},
     "output_type": "execute_result"
    }
   ],
   "source": [
    "d= lambda *a,b:[i+b for i in a]\n",
    "d(1,2,3,b=4)"
   ]
  },
  {
   "cell_type": "code",
   "execution_count": 13,
   "id": "cf8d0d69",
   "metadata": {},
   "outputs": [
    {
     "name": "stdout",
     "output_type": "stream",
     "text": [
      "count of even numbers are: 4\n",
      "count of odd numbers are: 5\n"
     ]
    }
   ],
   "source": [
    "def test(x):\n",
    "    even=len(list(filter(lambda y:y%2==0,l)))\n",
    "    print(\"count of even numbers are:\",even)\n",
    "    print(\"count of odd numbers are:\",len(l)-even)\n",
    "test([1,2,3,4,5,6,7,8,9] )"
   ]
  },
  {
   "cell_type": "code",
   "execution_count": 14,
   "id": "aa4c951a",
   "metadata": {},
   "outputs": [],
   "source": [
    "##local and global------- value defined in the function is called local and defined outside the function is called global"
   ]
  },
  {
   "cell_type": "code",
   "execution_count": 25,
   "id": "95d09e2e",
   "metadata": {},
   "outputs": [
    {
     "data": {
      "text/plain": [
       "5"
      ]
     },
     "execution_count": 25,
     "metadata": {},
     "output_type": "execute_result"
    }
   ],
   "source": [
    "##eg:local\n",
    "def test1():\n",
    "    a=5\n",
    "    return a\n",
    "test1()\n",
    "    "
   ]
  },
  {
   "cell_type": "code",
   "execution_count": 27,
   "id": "769a8f1d",
   "metadata": {},
   "outputs": [
    {
     "data": {
      "text/plain": [
       "5"
      ]
     },
     "execution_count": 27,
     "metadata": {},
     "output_type": "execute_result"
    }
   ],
   "source": [
    "##global\n",
    "def test2(a):\n",
    "    return a\n",
    "a=5\n",
    "test2(a)\n",
    "    "
   ]
  },
  {
   "cell_type": "code",
   "execution_count": 29,
   "id": "56998569",
   "metadata": {},
   "outputs": [
    {
     "name": "stdout",
     "output_type": "stream",
     "text": [
      "i love\n",
      "2262623931504\n",
      "i love python\n",
      "2262623931632\n"
     ]
    }
   ],
   "source": [
    "a=\"i love python\"\n",
    "def test():\n",
    "    a=\"i love\"\n",
    "    print(a)\n",
    "    print(id(a))\n",
    "test()\n",
    "print(a)\n",
    "print(id(a))"
   ]
  },
  {
   "cell_type": "code",
   "execution_count": 30,
   "id": "0916eedd",
   "metadata": {},
   "outputs": [],
   "source": [
    "##id referes to the memory location."
   ]
  },
  {
   "cell_type": "code",
   "execution_count": 39,
   "id": "83852d46",
   "metadata": {},
   "outputs": [
    {
     "name": "stdout",
     "output_type": "stream",
     "text": [
      "string\n"
     ]
    }
   ],
   "source": [
    "def test1(x):\n",
    "    if type(x)==int:\n",
    "        print(x)\n",
    "    else:\n",
    "        print(\"string\")\n",
    "        \n",
    "test1([1,2,3])"
   ]
  },
  {
   "cell_type": "code",
   "execution_count": 47,
   "id": "3d9445b0",
   "metadata": {},
   "outputs": [],
   "source": [
    "##try and exception if we want to try a funtion we use try and for returning the error we use exception case \n",
    "##we can also modify the exception command by print function"
   ]
  },
  {
   "cell_type": "code",
   "execution_count": 42,
   "id": "743c6c0f",
   "metadata": {},
   "outputs": [
    {
     "name": "stdout",
     "output_type": "stream",
     "text": [
      "invalid funtion\n"
     ]
    }
   ],
   "source": [
    "try:\n",
    "    a=5\n",
    "    a/0\n",
    "except:\n",
    "    print(\"invalid funtion\")"
   ]
  },
  {
   "cell_type": "code",
   "execution_count": 44,
   "id": "0923af2e",
   "metadata": {},
   "outputs": [
    {
     "name": "stdout",
     "output_type": "stream",
     "text": [
      "division by zero\n"
     ]
    }
   ],
   "source": [
    "try:\n",
    "    a=5\n",
    "    a/0\n",
    "except Exception as e:\n",
    "    print(e)"
   ]
  },
  {
   "cell_type": "code",
   "execution_count": 8,
   "id": "e48819ab",
   "metadata": {},
   "outputs": [
    {
     "name": "stdout",
     "output_type": "stream",
     "text": [
      "enter int onlyrishab\n",
      "invalid literal for int() with base 10: 'rishab'\n"
     ]
    }
   ],
   "source": [
    "try:\n",
    "    a=int(input(\"enter int only\"))\n",
    "except Exception as e:\n",
    "    print(e)"
   ]
  },
  {
   "cell_type": "code",
   "execution_count": 48,
   "id": "833e2ba0",
   "metadata": {},
   "outputs": [],
   "source": [
    "##file handling we can work on file in 6 ways w-write, r-read, a-append, r+ used for reading, seek- for removing aplhabets till"
   ]
  },
  {
   "cell_type": "code",
   "execution_count": 49,
   "id": "330d0c65",
   "metadata": {},
   "outputs": [],
   "source": [
    "f=open(\"test.txt\",\"w\")"
   ]
  },
  {
   "cell_type": "code",
   "execution_count": 50,
   "id": "9e78f29e",
   "metadata": {},
   "outputs": [
    {
     "name": "stdout",
     "output_type": "stream",
     "text": [
      " Volume in drive C is OS\n",
      " Volume Serial Number is 04C2-793D\n",
      "\n",
      " Directory of C:\\Users\\Rishab Saini\\python BIT\n",
      "\n",
      "01-08-2023  09:24    <DIR>          .\n",
      "17-07-2023  09:09    <DIR>          ..\n",
      "04-07-2023  10:48    <DIR>          .ipynb_checkpoints\n",
      "01-08-2023  09:20            83,567 python basic.ipynb\n",
      "01-08-2023  09:24                 0 test.txt\n",
      "               2 File(s)         83,567 bytes\n",
      "               3 Dir(s)  113,295,077,376 bytes free\n"
     ]
    }
   ],
   "source": [
    "%ls"
   ]
  },
  {
   "cell_type": "code",
   "execution_count": 54,
   "id": "17e914f8",
   "metadata": {},
   "outputs": [
    {
     "data": {
      "text/plain": [
       "78"
      ]
     },
     "execution_count": 54,
     "metadata": {},
     "output_type": "execute_result"
    }
   ],
   "source": [
    "f.write(\"hi my name is rishabjit saini. i an learning python programming from jalpa mam\")"
   ]
  },
  {
   "cell_type": "code",
   "execution_count": 55,
   "id": "d66a5ef3",
   "metadata": {},
   "outputs": [],
   "source": [
    "f.close()"
   ]
  },
  {
   "cell_type": "code",
   "execution_count": 57,
   "id": "6bab0efa",
   "metadata": {},
   "outputs": [],
   "source": [
    "f=open(\"test.txt\",\"r\")"
   ]
  },
  {
   "cell_type": "code",
   "execution_count": 58,
   "id": "68fa55ab",
   "metadata": {},
   "outputs": [],
   "source": [
    "f=open(\"test.txt\",\"a\")"
   ]
  },
  {
   "cell_type": "code",
   "execution_count": 59,
   "id": "560b5ac3",
   "metadata": {},
   "outputs": [
    {
     "data": {
      "text/plain": [
       "40"
      ]
     },
     "execution_count": 59,
     "metadata": {},
     "output_type": "execute_result"
    }
   ],
   "source": [
    "f.write(\"futher adding i will learn it fast asap.\")"
   ]
  },
  {
   "cell_type": "code",
   "execution_count": 60,
   "id": "7d76c3b0",
   "metadata": {},
   "outputs": [],
   "source": [
    "f.close()"
   ]
  },
  {
   "cell_type": "code",
   "execution_count": 61,
   "id": "f8a4aac9",
   "metadata": {},
   "outputs": [],
   "source": [
    "f=open(\"test.txt\",\"r\")"
   ]
  },
  {
   "cell_type": "code",
   "execution_count": 62,
   "id": "6ab31b00",
   "metadata": {},
   "outputs": [],
   "source": [
    "#cant open in read mode so we use f.readline()"
   ]
  },
  {
   "cell_type": "code",
   "execution_count": 63,
   "id": "bf724005",
   "metadata": {},
   "outputs": [
    {
     "data": {
      "text/plain": [
       "'hi my name is rishabjit saini. i an learning python programming from jalpa mamfuther adding i will learn it fast asap.'"
      ]
     },
     "execution_count": 63,
     "metadata": {},
     "output_type": "execute_result"
    }
   ],
   "source": [
    "f.readline()"
   ]
  },
  {
   "cell_type": "code",
   "execution_count": 64,
   "id": "3335cf65",
   "metadata": {},
   "outputs": [],
   "source": [
    "f.close()"
   ]
  },
  {
   "cell_type": "code",
   "execution_count": 65,
   "id": "4902dcb3",
   "metadata": {},
   "outputs": [],
   "source": [
    "f1=open(\"text2.txt\",\"w\")"
   ]
  },
  {
   "cell_type": "code",
   "execution_count": 66,
   "id": "7f0fd063",
   "metadata": {},
   "outputs": [
    {
     "data": {
      "text/plain": [
       "1377"
      ]
     },
     "execution_count": 66,
     "metadata": {},
     "output_type": "execute_result"
    }
   ],
   "source": [
    "f1.write(\"\"\"Aliens is a 1986 science fiction action film written and directed by James Cameron. It is the sequel to the 1979 science fiction horror film Alien, and the second film in the Alien franchise. Set in the far future, it stars Sigourney Weaver as Ellen Ripley, the sole survivor of an alien attack on her ship. When communications are lost with a human colony on the moon where her crew first saw the alien creatures, Ripley agrees to return to the site with a unit of Colonial Marines to investigate. Michael Biehn, Paul Reiser, Lance Henriksen, and Carrie Henn are featured in supporting roles.\n",
    "\n",
    "Despite the success of Alien, its sequel took years to develop due to lawsuits, a lack of enthusiasm from 20th Century Fox, and repeated management changes. Although relatively inexperienced, Cameron was hired to write a story for Aliens in 1983 on the strength of his scripts for The Terminator (1984) and Rambo: First Blood Part II (1985). The project stalled again until new Fox executive Lawrence Gordon pursued a sequel. On an approximately $18.5 million budget, Aliens began principal photography in September 1985 and concluded in January 1986. Like its development, filming was tumultuous and rife with conflicts between Cameron and the British crew at Pinewood Studios. The difficult shoot affected the composer, James Horner, who was given little time to record the music.\"\"\")"
   ]
  },
  {
   "cell_type": "code",
   "execution_count": 69,
   "id": "94768643",
   "metadata": {},
   "outputs": [],
   "source": [
    "f1=open(\"text2.txt\",\"r+\")"
   ]
  },
  {
   "cell_type": "code",
   "execution_count": 70,
   "id": "d4351d99",
   "metadata": {},
   "outputs": [
    {
     "data": {
      "text/plain": [
       "'Aliens is a 1986 science fiction action film written and directed by James Cameron. It is the sequel to the 1979 science fiction horror film Alien, and the second film in the Alien franchise. Set in the far future, it stars Sigourney Weaver as Ellen Ripley, the sole survivor of an alien attack on her ship. When communications are lost with a human colony on the moon where her crew first saw the alien creatures, Ripley agrees to return to the site with a unit of Colonial Marines to investigate. Michael Biehn, Paul Reiser, Lance Henriksen, and Carrie Henn are featured in supporting roles.\\n\\nDespite the success of Alien, its sequel took years to develop due to lawsuits, a lack of enthusiasm from 20th Century Fox, and repeated management changes. Although relatively inexperienced, Cameron was hired to write a story for Aliens in 1983 on the strength of his scripts for The Terminator (1984) and Rambo: First Blood Part II (1985). The project stalled again until new Fox executive Lawrence Gordon pursued a sequel. On an approximately $18.5 million budget, Aliens began principal photography in September 1985 and concluded in January 1986. Like its development, filming was tumultuous and rife with conflicts between Cameron and the British crew at Pinewood Studios. The difficult shoot affected the composer, James Horner, who was given little time to record the music.'"
      ]
     },
     "execution_count": 70,
     "metadata": {},
     "output_type": "execute_result"
    }
   ],
   "source": [
    "f1.read()"
   ]
  },
  {
   "cell_type": "code",
   "execution_count": 71,
   "id": "8885f2bc",
   "metadata": {},
   "outputs": [
    {
     "data": {
      "text/plain": [
       "5"
      ]
     },
     "execution_count": 71,
     "metadata": {},
     "output_type": "execute_result"
    }
   ],
   "source": [
    "f1.seek(5)"
   ]
  },
  {
   "cell_type": "code",
   "execution_count": 72,
   "id": "ecd22919",
   "metadata": {},
   "outputs": [
    {
     "data": {
      "text/plain": [
       "'s is a 1986 science fiction action film written and directed by James Cameron. It is the sequel to the 1979 science fiction horror film Alien, and the second film in the Alien franchise. Set in the far future, it stars Sigourney Weaver as Ellen Ripley, the sole survivor of an alien attack on her ship. When communications are lost with a human colony on the moon where her crew first saw the alien creatures, Ripley agrees to return to the site with a unit of Colonial Marines to investigate. Michael Biehn, Paul Reiser, Lance Henriksen, and Carrie Henn are featured in supporting roles.\\n\\nDespite the success of Alien, its sequel took years to develop due to lawsuits, a lack of enthusiasm from 20th Century Fox, and repeated management changes. Although relatively inexperienced, Cameron was hired to write a story for Aliens in 1983 on the strength of his scripts for The Terminator (1984) and Rambo: First Blood Part II (1985). The project stalled again until new Fox executive Lawrence Gordon pursued a sequel. On an approximately $18.5 million budget, Aliens began principal photography in September 1985 and concluded in January 1986. Like its development, filming was tumultuous and rife with conflicts between Cameron and the British crew at Pinewood Studios. The difficult shoot affected the composer, James Horner, who was given little time to record the music.'"
      ]
     },
     "execution_count": 72,
     "metadata": {},
     "output_type": "execute_result"
    }
   ],
   "source": [
    "f1.read()"
   ]
  },
  {
   "cell_type": "code",
   "execution_count": 73,
   "id": "2bd10bdd",
   "metadata": {},
   "outputs": [],
   "source": [
    "f1.close()"
   ]
  },
  {
   "cell_type": "code",
   "execution_count": 74,
   "id": "41c92c83",
   "metadata": {},
   "outputs": [
    {
     "name": "stdout",
     "output_type": "stream",
     "text": [
      "Aliens is a 1986 science fiction action film written and directed by James Cameron. It is the sequel to the 1979 science fiction horror film Alien, and the second film in the Alien franchise. Set in the far future, it stars Sigourney Weaver as Ellen Ripley, the sole survivor of an alien attack on her ship. When communications are lost with a human colony on the moon where her crew first saw the alien creatures, Ripley agrees to return to the site with a unit of Colonial Marines to investigate. Michael Biehn, Paul Reiser, Lance Henriksen, and Carrie Henn are featured in supporting roles.\n",
      "-\n",
      "-Despite the success of Alien, its sequel took years to develop due to lawsuits, a lack of enthusiasm from 20th Century Fox, and repeated management changes. Although relatively inexperienced, Cameron was hired to write a story for Aliens in 1983 on the strength of his scripts for The Terminator (1984) and Rambo: First Blood Part II (1985). The project stalled again until new Fox executive Lawrence Gordon pursued a sequel. On an approximately $18.5 million budget, Aliens began principal photography in September 1985 and concluded in January 1986. Like its development, filming was tumultuous and rife with conflicts between Cameron and the British crew at Pinewood Studios. The difficult shoot affected the composer, James Horner, who was given little time to record the music.-"
     ]
    }
   ],
   "source": [
    "f1=open(\"text2.txt\",\"r+\")\n",
    "for i in f1:\n",
    "    print(i,end=\"-\")"
   ]
  },
  {
   "cell_type": "code",
   "execution_count": 75,
   "id": "77c0f36f",
   "metadata": {},
   "outputs": [],
   "source": [
    "f1.close()"
   ]
  },
  {
   "cell_type": "code",
   "execution_count": 80,
   "id": "804c5e12",
   "metadata": {},
   "outputs": [
    {
     "name": "stdout",
     "output_type": "stream",
     "text": [
      "[Errno 2] No such file or directory: 'test4.txt'\n"
     ]
    }
   ],
   "source": [
    "try:\n",
    "    f=open(\"test4.txt\",\"r\")\n",
    "except Exception as e:\n",
    "    print(e)"
   ]
  },
  {
   "cell_type": "code",
   "execution_count": 90,
   "id": "702969a4",
   "metadata": {},
   "outputs": [
    {
     "name": "stdout",
     "output_type": "stream",
     "text": [
      "risahb\n",
      "error\n"
     ]
    }
   ],
   "source": [
    "try:\n",
    "    dict1={1:\"rishab\",2:\"saini\"}\n",
    "    dict1['z']=int(input())\n",
    "    print(dict1)\n",
    "except:\n",
    "    print('error')\n",
    "        \n",
    "        "
   ]
  },
  {
   "cell_type": "code",
   "execution_count": 107,
   "id": "9a7dc2ee",
   "metadata": {},
   "outputs": [
    {
     "name": "stdout",
     "output_type": "stream",
     "text": [
      "enter weigth in kg:95\n",
      "enter height in m:1.86\n",
      "27.45982194473349\n"
     ]
    }
   ],
   "source": [
    "##bmi try exeption weight height user defined.\n",
    "try:\n",
    "    def bmi1(weight,height):\n",
    "        \"\"\"to calculate bmi\"\"\"\n",
    "        bmi=weight/height**2\n",
    "        print(bmi)\n",
    "except:\n",
    "    print(\"error in code\")\n",
    "try:\n",
    "    weight=float(input(\"enter weigth in kg:\"))\n",
    "    height=float(input(\"enter height in m:\"))\n",
    "    bmi1(weight,height)\n",
    "except Exception as e:\n",
    "    print(e)\n",
    "        "
   ]
  },
  {
   "cell_type": "code",
   "execution_count": 130,
   "id": "bb923917",
   "metadata": {},
   "outputs": [
    {
     "name": "stdout",
     "output_type": "stream",
     "text": [
      "enter temprature in celsius36\n",
      "96.8\n"
     ]
    }
   ],
   "source": [
    "\n",
    "try:\n",
    "    def test1(c):\n",
    "        f=(c*(9/5))+32\n",
    "        print(f)\n",
    "    c=float(input(\"enter temprature in celsius\"))\n",
    "    test1(c)\n",
    "except Exception as e:\n",
    "    print(e)\n",
    "\n",
    "    "
   ]
  },
  {
   "cell_type": "code",
   "execution_count": 4,
   "id": "80d94700",
   "metadata": {},
   "outputs": [
    {
     "name": "stdout",
     "output_type": "stream",
     "text": [
      "enter:rishab\n",
      "enter a int not str\n"
     ]
    }
   ],
   "source": [
    "try:\n",
    "    a = int(input(\"enter:\"))\n",
    "    while type(a)!=int:\n",
    "        a=int(input(\"enter int value to exit:\"))\n",
    "except:\n",
    "    print(\"enter a int not str\")\n"
   ]
  },
  {
   "cell_type": "code",
   "execution_count": 1,
   "id": "e21255df",
   "metadata": {},
   "outputs": [
    {
     "name": "stdout",
     "output_type": "stream",
     "text": [
      "r\n",
      "enter the input again invalid literal for int() with base 10: 'r'\n",
      "r\n",
      "enter the input again invalid literal for int() with base 10: 'r'\n",
      "r\n",
      "enter the input again invalid literal for int() with base 10: 'r'\n",
      "r\n",
      "enter the input again invalid literal for int() with base 10: 'r'\n",
      "r\n",
      "enter the input again invalid literal for int() with base 10: 'r'\n",
      "6\n"
     ]
    }
   ],
   "source": [
    "def integer():\n",
    "    while True:\n",
    "        try:\n",
    "            x=int(input())\n",
    "            break\n",
    "        except Exception as e:\n",
    "            print(\"enter the input again\",e)\n",
    "integer()"
   ]
  },
  {
   "cell_type": "code",
   "execution_count": 2,
   "id": "0990cd30",
   "metadata": {},
   "outputs": [],
   "source": [
    "##raise exception error"
   ]
  },
  {
   "cell_type": "code",
   "execution_count": 6,
   "id": "3082674c",
   "metadata": {},
   "outputs": [
    {
     "ename": "ZeroDivisionError",
     "evalue": "please enter the key properly",
     "output_type": "error",
     "traceback": [
      "\u001b[1;31m---------------------------------------------------------------------------\u001b[0m",
      "\u001b[1;31mZeroDivisionError\u001b[0m                         Traceback (most recent call last)",
      "Input \u001b[1;32mIn [6]\u001b[0m, in \u001b[0;36m<cell line: 5>\u001b[1;34m()\u001b[0m\n\u001b[0;32m      3\u001b[0m         \u001b[38;5;28;01mraise\u001b[39;00m \u001b[38;5;167;01mZeroDivisionError\u001b[39;00m(\u001b[38;5;124m\"\u001b[39m\u001b[38;5;124mplease enter the key properly\u001b[39m\u001b[38;5;124m\"\u001b[39m)\n\u001b[0;32m      4\u001b[0m     \u001b[38;5;28;01mreturn\u001b[39;00m a\n\u001b[1;32m----> 5\u001b[0m \u001b[43mtest\u001b[49m\u001b[43m(\u001b[49m\u001b[38;5;124;43m'\u001b[39;49m\u001b[38;5;124;43msjs\u001b[39;49m\u001b[38;5;124;43m'\u001b[39;49m\u001b[43m)\u001b[49m\n",
      "Input \u001b[1;32mIn [6]\u001b[0m, in \u001b[0;36mtest\u001b[1;34m(a)\u001b[0m\n\u001b[0;32m      1\u001b[0m \u001b[38;5;28;01mdef\u001b[39;00m \u001b[38;5;21mtest\u001b[39m(a):\n\u001b[0;32m      2\u001b[0m     \u001b[38;5;28;01mif\u001b[39;00m a\u001b[38;5;241m==\u001b[39m\u001b[38;5;124m\"\u001b[39m\u001b[38;5;124msjs\u001b[39m\u001b[38;5;124m\"\u001b[39m:\n\u001b[1;32m----> 3\u001b[0m         \u001b[38;5;28;01mraise\u001b[39;00m \u001b[38;5;167;01mZeroDivisionError\u001b[39;00m(\u001b[38;5;124m\"\u001b[39m\u001b[38;5;124mplease enter the key properly\u001b[39m\u001b[38;5;124m\"\u001b[39m)\n\u001b[0;32m      4\u001b[0m     \u001b[38;5;28;01mreturn\u001b[39;00m a\n",
      "\u001b[1;31mZeroDivisionError\u001b[0m: please enter the key properly"
     ]
    }
   ],
   "source": [
    "def test(a):\n",
    "    if a==\"sjs\":\n",
    "        raise ZeroDivisionError(\"please enter the key properly\")\n",
    "    return a\n",
    "test('sjs')"
   ]
  },
  {
   "cell_type": "code",
   "execution_count": 21,
   "id": "e815b57b",
   "metadata": {},
   "outputs": [
    {
     "name": "stdout",
     "output_type": "stream",
     "text": [
      "str\n"
     ]
    }
   ],
   "source": [
    "dict1={1:\"rishab\",2:\"saini\"}\n",
    "dict1['z']=(input())\n",
    "if type(dict1['z'])==int:\n",
    "        raise ZeroDivisionError(\"enter str\")"
   ]
  },
  {
   "cell_type": "code",
   "execution_count": null,
   "id": "4dac4a24",
   "metadata": {},
   "outputs": [],
   "source": [
    "def test():\n",
    "    dict1={1:\"rishab\",2:\"saini\"}\n",
    "    dict1['z']=int(input())\n",
    "    if type(dict1['z'])==int:\n",
    "        raise ZeroDivisionError(\"enter str\")\n",
    "    return dict1\n",
    "test()"
   ]
  },
  {
   "cell_type": "code",
   "execution_count": 2,
   "id": "dbd7df46",
   "metadata": {},
   "outputs": [
    {
     "name": "stdout",
     "output_type": "stream",
     "text": [
      "str\n",
      "invalid literal for int() with base 10: 'str'\n"
     ]
    }
   ],
   "source": [
    "try:\n",
    "    dict1={1:\"rishab\",2:\"saini\"}\n",
    "    dict1['z']=int(input())\n",
    "    f=open(\"test2\",\"r\")\n",
    "except ValueError as xyz:\n",
    "    print(xyz)\n",
    "except FileNotFoundError as e:\n",
    "    print(e)\n",
    "except Exception as ee:\n",
    "    print(e)"
   ]
  },
  {
   "cell_type": "code",
   "execution_count": 3,
   "id": "d3a661f4",
   "metadata": {},
   "outputs": [],
   "source": [
    "import logging\n",
    "logging.basicConfig(filename='test404.log', level=logging.INFO)\n",
    "logging.info(\"this is my info log\")\n",
    "logging.warning(\"this is my warning log\")\n",
    "logging.error(\"this is my error log\")\n",
    "logging.shutdown()"
   ]
  },
  {
   "cell_type": "code",
   "execution_count": 4,
   "id": "b7455bb6",
   "metadata": {},
   "outputs": [
    {
     "data": {
      "text/plain": [
       "'C:\\\\Users\\\\Rishab Saini\\\\python BIT'"
      ]
     },
     "execution_count": 4,
     "metadata": {},
     "output_type": "execute_result"
    }
   ],
   "source": [
    "pwd()"
   ]
  },
  {
   "cell_type": "code",
   "execution_count": 3,
   "id": "2362d7b0",
   "metadata": {},
   "outputs": [],
   "source": [
    "import logging\n",
    "logging.basicConfig(filename='test401.log', level=logging.DEBUG, format='%(asctime)s%(levelname)s%(message)s')\n",
    "logging.info(\" this is my info log\")\n",
    "logging.warning(\" this is my warning log\")\n",
    "logging.error(\" this is my error log\")\n",
    "logging.shutdown()"
   ]
  },
  {
   "cell_type": "code",
   "execution_count": 8,
   "id": "f523e115",
   "metadata": {},
   "outputs": [
    {
     "data": {
      "text/plain": [
       "'C:\\\\Users\\\\Rishab Saini\\\\python BIT'"
      ]
     },
     "execution_count": 8,
     "metadata": {},
     "output_type": "execute_result"
    }
   ],
   "source": [
    "pwd()"
   ]
  },
  {
   "cell_type": "code",
   "execution_count": 2,
   "id": "8d2cd165",
   "metadata": {},
   "outputs": [
    {
     "name": "stdout",
     "output_type": "stream",
     "text": [
      " Volume in drive C is OS\n",
      " Volume Serial Number is 04C2-793D\n",
      "\n",
      " Directory of C:\\Users\\Rishab Saini\\python BIT\n",
      "\n",
      "03-08-2023  09:25    <DIR>          .\n",
      "17-07-2023  09:09    <DIR>          ..\n",
      "03-08-2023  09:14    <DIR>          .ipynb_checkpoints\n",
      "03-08-2023  09:24           103,477 everyBasic.ipynb\n",
      "03-08-2023  09:13           103,020 python basic.ipynb\n",
      "01-08-2023  09:31               118 test.txt\n",
      "03-08-2023  09:25               152 test401.log\n",
      "03-08-2023  09:24               373 test404.log\n",
      "01-08-2023  09:42             1,379 text2.txt\n",
      "               6 File(s)        208,519 bytes\n",
      "               3 Dir(s)  106,852,040,704 bytes free\n"
     ]
    }
   ],
   "source": [
    "ls"
   ]
  },
  {
   "cell_type": "code",
   "execution_count": 3,
   "id": "e4c54956",
   "metadata": {},
   "outputs": [],
   "source": [
    "import logging\n",
    "def divbyzero(a,b):\n",
    "    logging.basicConfig(filename='test402.log', level=logging.INFO)\n",
    "    logging.info(\"this my code and i try to enter %s and %s\",a,b)\n",
    "    try: \n",
    "        div=a/b\n",
    "        logging.info(\"success\")\n",
    "    except Exception as e:\n",
    "        logging.error(\"error haas happend\")\n",
    "        logging.exception(\"Exception occured\"+str(e))\n",
    "logging.shutdown()\n",
    "divbyzero(4,0)\n",
    "    "
   ]
  },
  {
   "cell_type": "code",
   "execution_count": 8,
   "id": "15dcb8a8",
   "metadata": {},
   "outputs": [
    {
     "name": "stdout",
     "output_type": "stream",
     "text": [
      "27.45982194473349\n"
     ]
    },
    {
     "name": "stderr",
     "output_type": "stream",
     "text": [
      "--- Logging error ---\n",
      "Traceback (most recent call last):\n",
      "  File \"C:\\Users\\Rishab Saini\\anaconda3\\lib\\logging\\__init__.py\", line 1083, in emit\n",
      "    msg = self.format(record)\n",
      "  File \"C:\\Users\\Rishab Saini\\anaconda3\\lib\\logging\\__init__.py\", line 927, in format\n",
      "    return fmt.format(record)\n",
      "  File \"C:\\Users\\Rishab Saini\\anaconda3\\lib\\logging\\__init__.py\", line 663, in format\n",
      "    record.message = record.getMessage()\n",
      "  File \"C:\\Users\\Rishab Saini\\anaconda3\\lib\\logging\\__init__.py\", line 367, in getMessage\n",
      "    msg = msg % self.args\n",
      "TypeError: not all arguments converted during string formatting\n",
      "Call stack:\n",
      "  File \"C:\\Users\\Rishab Saini\\anaconda3\\lib\\runpy.py\", line 197, in _run_module_as_main\n",
      "    return _run_code(code, main_globals, None,\n",
      "  File \"C:\\Users\\Rishab Saini\\anaconda3\\lib\\runpy.py\", line 87, in _run_code\n",
      "    exec(code, run_globals)\n",
      "  File \"C:\\Users\\Rishab Saini\\anaconda3\\lib\\site-packages\\ipykernel_launcher.py\", line 16, in <module>\n",
      "    app.launch_new_instance()\n",
      "  File \"C:\\Users\\Rishab Saini\\anaconda3\\lib\\site-packages\\traitlets\\config\\application.py\", line 846, in launch_instance\n",
      "    app.start()\n",
      "  File \"C:\\Users\\Rishab Saini\\anaconda3\\lib\\site-packages\\ipykernel\\kernelapp.py\", line 677, in start\n",
      "    self.io_loop.start()\n",
      "  File \"C:\\Users\\Rishab Saini\\anaconda3\\lib\\site-packages\\tornado\\platform\\asyncio.py\", line 199, in start\n",
      "    self.asyncio_loop.run_forever()\n",
      "  File \"C:\\Users\\Rishab Saini\\anaconda3\\lib\\asyncio\\base_events.py\", line 601, in run_forever\n",
      "    self._run_once()\n",
      "  File \"C:\\Users\\Rishab Saini\\anaconda3\\lib\\asyncio\\base_events.py\", line 1905, in _run_once\n",
      "    handle._run()\n",
      "  File \"C:\\Users\\Rishab Saini\\anaconda3\\lib\\asyncio\\events.py\", line 80, in _run\n",
      "    self._context.run(self._callback, *self._args)\n",
      "  File \"C:\\Users\\Rishab Saini\\anaconda3\\lib\\site-packages\\ipykernel\\kernelbase.py\", line 471, in dispatch_queue\n",
      "    await self.process_one()\n",
      "  File \"C:\\Users\\Rishab Saini\\anaconda3\\lib\\site-packages\\ipykernel\\kernelbase.py\", line 460, in process_one\n",
      "    await dispatch(*args)\n",
      "  File \"C:\\Users\\Rishab Saini\\anaconda3\\lib\\site-packages\\ipykernel\\kernelbase.py\", line 367, in dispatch_shell\n",
      "    await result\n",
      "  File \"C:\\Users\\Rishab Saini\\anaconda3\\lib\\site-packages\\ipykernel\\kernelbase.py\", line 662, in execute_request\n",
      "    reply_content = await reply_content\n",
      "  File \"C:\\Users\\Rishab Saini\\anaconda3\\lib\\site-packages\\ipykernel\\ipkernel.py\", line 360, in do_execute\n",
      "    res = shell.run_cell(code, store_history=store_history, silent=silent)\n",
      "  File \"C:\\Users\\Rishab Saini\\anaconda3\\lib\\site-packages\\ipykernel\\zmqshell.py\", line 532, in run_cell\n",
      "    return super().run_cell(*args, **kwargs)\n",
      "  File \"C:\\Users\\Rishab Saini\\anaconda3\\lib\\site-packages\\IPython\\core\\interactiveshell.py\", line 2863, in run_cell\n",
      "    result = self._run_cell(\n",
      "  File \"C:\\Users\\Rishab Saini\\anaconda3\\lib\\site-packages\\IPython\\core\\interactiveshell.py\", line 2909, in _run_cell\n",
      "    return runner(coro)\n",
      "  File \"C:\\Users\\Rishab Saini\\anaconda3\\lib\\site-packages\\IPython\\core\\async_helpers.py\", line 129, in _pseudo_sync_runner\n",
      "    coro.send(None)\n",
      "  File \"C:\\Users\\Rishab Saini\\anaconda3\\lib\\site-packages\\IPython\\core\\interactiveshell.py\", line 3106, in run_cell_async\n",
      "    has_raised = await self.run_ast_nodes(code_ast.body, cell_name,\n",
      "  File \"C:\\Users\\Rishab Saini\\anaconda3\\lib\\site-packages\\IPython\\core\\interactiveshell.py\", line 3309, in run_ast_nodes\n",
      "    if await self.run_code(code, result, async_=asy):\n",
      "  File \"C:\\Users\\Rishab Saini\\anaconda3\\lib\\site-packages\\IPython\\core\\interactiveshell.py\", line 3369, in run_code\n",
      "    exec(code_obj, self.user_global_ns, self.user_ns)\n",
      "  File \"C:\\Users\\Rishab Saini\\AppData\\Local\\Temp\\ipykernel_19972\\1285118918.py\", line 13, in <cell line: 13>\n",
      "    bmi1(95,1.86)\n",
      "  File \"C:\\Users\\Rishab Saini\\AppData\\Local\\Temp\\ipykernel_19972\\1285118918.py\", line 7, in bmi1\n",
      "    logging.info(\"ur BMI is \",bmi)\n",
      "Message: 'ur BMI is '\n",
      "Arguments: (27.45982194473349,)\n"
     ]
    }
   ],
   "source": [
    "import logging\n",
    "def bmi1(w,h):\n",
    "    logging.basicConfig(filename='test403.log', level=logging.INFO)\n",
    "    logging.info(\"code for BMI weight:%s and height:%s\",w,h)\n",
    "    try:\n",
    "        bmi=w/h**2\n",
    "        logging.info(\"ur BMI is \",bmi)\n",
    "        print(bmi)\n",
    "    except Exception as e:\n",
    "        logging.error(\"error occured\")\n",
    "        logging.exception(\"Exception occured\"+str(e))\n",
    "logging.shutdown()\n",
    "bmi1(95,1.86)\n",
    "        "
   ]
  },
  {
   "cell_type": "code",
   "execution_count": 8,
   "id": "0256403b",
   "metadata": {},
   "outputs": [
    {
     "name": "stdout",
     "output_type": "stream",
     "text": [
      "enter a number-6\n"
     ]
    }
   ],
   "source": [
    "import logging\n",
    "logging.basicConfig(filename='test405.log', level=logging.DEBUG, format='%(asctime)s%(levelname)s%(message)s')\n",
    "def op(x):\n",
    "    if x<0:\n",
    "        raise ValueError(\"number cant be negative\")\n",
    "    else:\n",
    "        logging.info(\"success\")\n",
    "try:\n",
    "    x=int(input(\"enter a number\"))\n",
    "    op(x)\n",
    "except Exception as e:\n",
    "    logging.exception(\"error:%s\",str(e))\n",
    "logging.shutdown()"
   ]
  },
  {
   "cell_type": "code",
   "execution_count": 9,
   "id": "06a1cb21",
   "metadata": {},
   "outputs": [],
   "source": [
    "###2023 calen , html calen,  shutdown the system, todays date with time, print date for 5 dayys ahead and 5 dasy before,\n",
    "##upercase convert, lowercase convert , file rename \n"
   ]
  },
  {
   "cell_type": "code",
   "execution_count": 12,
   "id": "03b0dad1",
   "metadata": {},
   "outputs": [
    {
     "name": "stdout",
     "output_type": "stream",
     "text": [
      "The calendar of year 2018 is : \n",
      "                                  2023\n",
      "\n",
      "      January                   February                   March\n",
      "Mo Tu We Th Fr Sa Su      Mo Tu We Th Fr Sa Su      Mo Tu We Th Fr Sa Su\n",
      "                   1             1  2  3  4  5             1  2  3  4  5\n",
      " 2  3  4  5  6  7  8       6  7  8  9 10 11 12       6  7  8  9 10 11 12\n",
      " 9 10 11 12 13 14 15      13 14 15 16 17 18 19      13 14 15 16 17 18 19\n",
      "16 17 18 19 20 21 22      20 21 22 23 24 25 26      20 21 22 23 24 25 26\n",
      "23 24 25 26 27 28 29      27 28                     27 28 29 30 31\n",
      "30 31\n",
      "\n",
      "       April                      May                       June\n",
      "Mo Tu We Th Fr Sa Su      Mo Tu We Th Fr Sa Su      Mo Tu We Th Fr Sa Su\n",
      "                1  2       1  2  3  4  5  6  7                1  2  3  4\n",
      " 3  4  5  6  7  8  9       8  9 10 11 12 13 14       5  6  7  8  9 10 11\n",
      "10 11 12 13 14 15 16      15 16 17 18 19 20 21      12 13 14 15 16 17 18\n",
      "17 18 19 20 21 22 23      22 23 24 25 26 27 28      19 20 21 22 23 24 25\n",
      "24 25 26 27 28 29 30      29 30 31                  26 27 28 29 30\n",
      "\n",
      "        July                     August                  September\n",
      "Mo Tu We Th Fr Sa Su      Mo Tu We Th Fr Sa Su      Mo Tu We Th Fr Sa Su\n",
      "                1  2          1  2  3  4  5  6                   1  2  3\n",
      " 3  4  5  6  7  8  9       7  8  9 10 11 12 13       4  5  6  7  8  9 10\n",
      "10 11 12 13 14 15 16      14 15 16 17 18 19 20      11 12 13 14 15 16 17\n",
      "17 18 19 20 21 22 23      21 22 23 24 25 26 27      18 19 20 21 22 23 24\n",
      "24 25 26 27 28 29 30      28 29 30 31               25 26 27 28 29 30\n",
      "31\n",
      "\n",
      "      October                   November                  December\n",
      "Mo Tu We Th Fr Sa Su      Mo Tu We Th Fr Sa Su      Mo Tu We Th Fr Sa Su\n",
      "                   1             1  2  3  4  5                   1  2  3\n",
      " 2  3  4  5  6  7  8       6  7  8  9 10 11 12       4  5  6  7  8  9 10\n",
      " 9 10 11 12 13 14 15      13 14 15 16 17 18 19      11 12 13 14 15 16 17\n",
      "16 17 18 19 20 21 22      20 21 22 23 24 25 26      18 19 20 21 22 23 24\n",
      "23 24 25 26 27 28 29      27 28 29 30               25 26 27 28 29 30 31\n",
      "30 31\n",
      "\n"
     ]
    }
   ],
   "source": [
    "import calendar\n",
    "\n",
    "print (\"The calendar of year 2018 is : \")\n",
    "print (calendar.calendar(2023))"
   ]
  },
  {
   "cell_type": "code",
   "execution_count": 13,
   "id": "c1a9771e",
   "metadata": {},
   "outputs": [
    {
     "name": "stdout",
     "output_type": "stream",
     "text": [
      "Do you wish to shutdown your computer ? (yes / no): no\n"
     ]
    }
   ],
   "source": [
    "\n",
    "import os\n",
    "  \n",
    "shutdown = input(\"Do you wish to shutdown your computer ? (yes / no): \")\n",
    "  \n",
    "if shutdown == 'no':\n",
    "    exit()\n",
    "else:\n",
    "    os.system(\"shutdown /s /t 1\")\n"
   ]
  },
  {
   "cell_type": "code",
   "execution_count": 2,
   "id": "adce34aa",
   "metadata": {},
   "outputs": [
    {
     "name": "stdout",
     "output_type": "stream",
     "text": [
      "Original String:\n",
      "geeKs For geEkS\n",
      "\n",
      "Converted String:\n",
      "GEEKS FOR GEEKS\n"
     ]
    }
   ],
   "source": [
    "\n",
    "text = 'geeKs For geEkS'\n",
    "\n",
    "print(\"Original String:\")\n",
    "print(text)\n",
    "\n",
    "print(\"\\nConverted String:\")\n",
    "print(text.upper())\n"
   ]
  },
  {
   "cell_type": "code",
   "execution_count": 3,
   "id": "16272ce3",
   "metadata": {},
   "outputs": [
    {
     "name": "stdout",
     "output_type": "stream",
     "text": [
      "Original String:\n",
      "geeKs For geEkS\n",
      "\n",
      "Converted String:\n",
      "geeks for geeks\n"
     ]
    }
   ],
   "source": [
    "\n",
    "text = 'geeKs For geEkS'\n",
    "\n",
    "print(\"Original String:\")\n",
    "print(text)\n",
    "\n",
    "print(\"\\nConverted String:\")\n",
    "print(text.lower())"
   ]
  },
  {
   "cell_type": "code",
   "execution_count": 5,
   "id": "bbabfc9e",
   "metadata": {},
   "outputs": [
    {
     "name": "stdout",
     "output_type": "stream",
     "text": [
      "<built-in method append of list object at 0x0000025598365380>\n"
     ]
    }
   ],
   "source": [
    "a=[1,2,3,4]\n",
    "b=[5,6,7,8]\n"
   ]
  },
  {
   "cell_type": "code",
   "execution_count": null,
   "id": "bb5a3718",
   "metadata": {},
   "outputs": [],
   "source": []
  }
 ],
 "metadata": {
  "kernelspec": {
   "display_name": "Python 3 (ipykernel)",
   "language": "python",
   "name": "python3"
  },
  "language_info": {
   "codemirror_mode": {
    "name": "ipython",
    "version": 3
   },
   "file_extension": ".py",
   "mimetype": "text/x-python",
   "name": "python",
   "nbconvert_exporter": "python",
   "pygments_lexer": "ipython3",
   "version": "3.9.12"
  }
 },
 "nbformat": 4,
 "nbformat_minor": 5
}
